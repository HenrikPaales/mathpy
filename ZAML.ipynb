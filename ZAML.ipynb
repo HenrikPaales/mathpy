{
  "nbformat": 4,
  "nbformat_minor": 0,
  "metadata": {
    "colab": {
      "provenance": [],
      "gpuType": "T4"
    },
    "kernelspec": {
      "name": "python3",
      "display_name": "Python 3"
    },
    "language_info": {
      "name": "python"
    },
    "widgets": {
      "application/vnd.jupyter.widget-state+json": {
        "2d9eadd03f75452c94028b98543e1962": {
          "model_module": "@jupyter-widgets/controls",
          "model_name": "HBoxModel",
          "model_module_version": "1.5.0",
          "state": {
            "_dom_classes": [],
            "_model_module": "@jupyter-widgets/controls",
            "_model_module_version": "1.5.0",
            "_model_name": "HBoxModel",
            "_view_count": null,
            "_view_module": "@jupyter-widgets/controls",
            "_view_module_version": "1.5.0",
            "_view_name": "HBoxView",
            "box_style": "",
            "children": [
              "IPY_MODEL_53c273f4fc5647d1b0b0850af128d16b",
              "IPY_MODEL_b4d1dd9aa20b44dd909fe9ce361a2d41",
              "IPY_MODEL_41a9354d3be64fdd91b1a2a11206f01c"
            ],
            "layout": "IPY_MODEL_c3aba9d6dcce4ebba02cfc293ee053e9"
          }
        },
        "53c273f4fc5647d1b0b0850af128d16b": {
          "model_module": "@jupyter-widgets/controls",
          "model_name": "HTMLModel",
          "model_module_version": "1.5.0",
          "state": {
            "_dom_classes": [],
            "_model_module": "@jupyter-widgets/controls",
            "_model_module_version": "1.5.0",
            "_model_name": "HTMLModel",
            "_view_count": null,
            "_view_module": "@jupyter-widgets/controls",
            "_view_module_version": "1.5.0",
            "_view_name": "HTMLView",
            "description": "",
            "description_tooltip": null,
            "layout": "IPY_MODEL_13582669466747eea95a06c585e5fe75",
            "placeholder": "​",
            "style": "IPY_MODEL_d32bdce5bd8f40a78bc60edf94535a2a",
            "value": "100%"
          }
        },
        "b4d1dd9aa20b44dd909fe9ce361a2d41": {
          "model_module": "@jupyter-widgets/controls",
          "model_name": "FloatProgressModel",
          "model_module_version": "1.5.0",
          "state": {
            "_dom_classes": [],
            "_model_module": "@jupyter-widgets/controls",
            "_model_module_version": "1.5.0",
            "_model_name": "FloatProgressModel",
            "_view_count": null,
            "_view_module": "@jupyter-widgets/controls",
            "_view_module_version": "1.5.0",
            "_view_name": "ProgressView",
            "bar_style": "success",
            "description": "",
            "description_tooltip": null,
            "layout": "IPY_MODEL_ecbdf0a0a0cf4d13a0861a52899312ab",
            "max": 14548,
            "min": 0,
            "orientation": "horizontal",
            "style": "IPY_MODEL_d63290fcb9194f5bb8d637991bfcdb1b",
            "value": 14548
          }
        },
        "41a9354d3be64fdd91b1a2a11206f01c": {
          "model_module": "@jupyter-widgets/controls",
          "model_name": "HTMLModel",
          "model_module_version": "1.5.0",
          "state": {
            "_dom_classes": [],
            "_model_module": "@jupyter-widgets/controls",
            "_model_module_version": "1.5.0",
            "_model_name": "HTMLModel",
            "_view_count": null,
            "_view_module": "@jupyter-widgets/controls",
            "_view_module_version": "1.5.0",
            "_view_name": "HTMLView",
            "description": "",
            "description_tooltip": null,
            "layout": "IPY_MODEL_3e4085bbaa5245fdac04c9b0e470b8f4",
            "placeholder": "​",
            "style": "IPY_MODEL_2aa29b30fcfe45a1883b0b3bfc4c3273",
            "value": " 14548/14548 [00:15&lt;00:00, 720.63it/s]"
          }
        },
        "c3aba9d6dcce4ebba02cfc293ee053e9": {
          "model_module": "@jupyter-widgets/base",
          "model_name": "LayoutModel",
          "model_module_version": "1.2.0",
          "state": {
            "_model_module": "@jupyter-widgets/base",
            "_model_module_version": "1.2.0",
            "_model_name": "LayoutModel",
            "_view_count": null,
            "_view_module": "@jupyter-widgets/base",
            "_view_module_version": "1.2.0",
            "_view_name": "LayoutView",
            "align_content": null,
            "align_items": null,
            "align_self": null,
            "border": null,
            "bottom": null,
            "display": null,
            "flex": null,
            "flex_flow": null,
            "grid_area": null,
            "grid_auto_columns": null,
            "grid_auto_flow": null,
            "grid_auto_rows": null,
            "grid_column": null,
            "grid_gap": null,
            "grid_row": null,
            "grid_template_areas": null,
            "grid_template_columns": null,
            "grid_template_rows": null,
            "height": null,
            "justify_content": null,
            "justify_items": null,
            "left": null,
            "margin": null,
            "max_height": null,
            "max_width": null,
            "min_height": null,
            "min_width": null,
            "object_fit": null,
            "object_position": null,
            "order": null,
            "overflow": null,
            "overflow_x": null,
            "overflow_y": null,
            "padding": null,
            "right": null,
            "top": null,
            "visibility": null,
            "width": null
          }
        },
        "13582669466747eea95a06c585e5fe75": {
          "model_module": "@jupyter-widgets/base",
          "model_name": "LayoutModel",
          "model_module_version": "1.2.0",
          "state": {
            "_model_module": "@jupyter-widgets/base",
            "_model_module_version": "1.2.0",
            "_model_name": "LayoutModel",
            "_view_count": null,
            "_view_module": "@jupyter-widgets/base",
            "_view_module_version": "1.2.0",
            "_view_name": "LayoutView",
            "align_content": null,
            "align_items": null,
            "align_self": null,
            "border": null,
            "bottom": null,
            "display": null,
            "flex": null,
            "flex_flow": null,
            "grid_area": null,
            "grid_auto_columns": null,
            "grid_auto_flow": null,
            "grid_auto_rows": null,
            "grid_column": null,
            "grid_gap": null,
            "grid_row": null,
            "grid_template_areas": null,
            "grid_template_columns": null,
            "grid_template_rows": null,
            "height": null,
            "justify_content": null,
            "justify_items": null,
            "left": null,
            "margin": null,
            "max_height": null,
            "max_width": null,
            "min_height": null,
            "min_width": null,
            "object_fit": null,
            "object_position": null,
            "order": null,
            "overflow": null,
            "overflow_x": null,
            "overflow_y": null,
            "padding": null,
            "right": null,
            "top": null,
            "visibility": null,
            "width": null
          }
        },
        "d32bdce5bd8f40a78bc60edf94535a2a": {
          "model_module": "@jupyter-widgets/controls",
          "model_name": "DescriptionStyleModel",
          "model_module_version": "1.5.0",
          "state": {
            "_model_module": "@jupyter-widgets/controls",
            "_model_module_version": "1.5.0",
            "_model_name": "DescriptionStyleModel",
            "_view_count": null,
            "_view_module": "@jupyter-widgets/base",
            "_view_module_version": "1.2.0",
            "_view_name": "StyleView",
            "description_width": ""
          }
        },
        "ecbdf0a0a0cf4d13a0861a52899312ab": {
          "model_module": "@jupyter-widgets/base",
          "model_name": "LayoutModel",
          "model_module_version": "1.2.0",
          "state": {
            "_model_module": "@jupyter-widgets/base",
            "_model_module_version": "1.2.0",
            "_model_name": "LayoutModel",
            "_view_count": null,
            "_view_module": "@jupyter-widgets/base",
            "_view_module_version": "1.2.0",
            "_view_name": "LayoutView",
            "align_content": null,
            "align_items": null,
            "align_self": null,
            "border": null,
            "bottom": null,
            "display": null,
            "flex": null,
            "flex_flow": null,
            "grid_area": null,
            "grid_auto_columns": null,
            "grid_auto_flow": null,
            "grid_auto_rows": null,
            "grid_column": null,
            "grid_gap": null,
            "grid_row": null,
            "grid_template_areas": null,
            "grid_template_columns": null,
            "grid_template_rows": null,
            "height": null,
            "justify_content": null,
            "justify_items": null,
            "left": null,
            "margin": null,
            "max_height": null,
            "max_width": null,
            "min_height": null,
            "min_width": null,
            "object_fit": null,
            "object_position": null,
            "order": null,
            "overflow": null,
            "overflow_x": null,
            "overflow_y": null,
            "padding": null,
            "right": null,
            "top": null,
            "visibility": null,
            "width": null
          }
        },
        "d63290fcb9194f5bb8d637991bfcdb1b": {
          "model_module": "@jupyter-widgets/controls",
          "model_name": "ProgressStyleModel",
          "model_module_version": "1.5.0",
          "state": {
            "_model_module": "@jupyter-widgets/controls",
            "_model_module_version": "1.5.0",
            "_model_name": "ProgressStyleModel",
            "_view_count": null,
            "_view_module": "@jupyter-widgets/base",
            "_view_module_version": "1.2.0",
            "_view_name": "StyleView",
            "bar_color": null,
            "description_width": ""
          }
        },
        "3e4085bbaa5245fdac04c9b0e470b8f4": {
          "model_module": "@jupyter-widgets/base",
          "model_name": "LayoutModel",
          "model_module_version": "1.2.0",
          "state": {
            "_model_module": "@jupyter-widgets/base",
            "_model_module_version": "1.2.0",
            "_model_name": "LayoutModel",
            "_view_count": null,
            "_view_module": "@jupyter-widgets/base",
            "_view_module_version": "1.2.0",
            "_view_name": "LayoutView",
            "align_content": null,
            "align_items": null,
            "align_self": null,
            "border": null,
            "bottom": null,
            "display": null,
            "flex": null,
            "flex_flow": null,
            "grid_area": null,
            "grid_auto_columns": null,
            "grid_auto_flow": null,
            "grid_auto_rows": null,
            "grid_column": null,
            "grid_gap": null,
            "grid_row": null,
            "grid_template_areas": null,
            "grid_template_columns": null,
            "grid_template_rows": null,
            "height": null,
            "justify_content": null,
            "justify_items": null,
            "left": null,
            "margin": null,
            "max_height": null,
            "max_width": null,
            "min_height": null,
            "min_width": null,
            "object_fit": null,
            "object_position": null,
            "order": null,
            "overflow": null,
            "overflow_x": null,
            "overflow_y": null,
            "padding": null,
            "right": null,
            "top": null,
            "visibility": null,
            "width": null
          }
        },
        "2aa29b30fcfe45a1883b0b3bfc4c3273": {
          "model_module": "@jupyter-widgets/controls",
          "model_name": "DescriptionStyleModel",
          "model_module_version": "1.5.0",
          "state": {
            "_model_module": "@jupyter-widgets/controls",
            "_model_module_version": "1.5.0",
            "_model_name": "DescriptionStyleModel",
            "_view_count": null,
            "_view_module": "@jupyter-widgets/base",
            "_view_module_version": "1.2.0",
            "_view_name": "StyleView",
            "description_width": ""
          }
        },
        "a396188cd73a4dba88f1c96226ecc7e9": {
          "model_module": "@jupyter-widgets/controls",
          "model_name": "HBoxModel",
          "model_module_version": "1.5.0",
          "state": {
            "_dom_classes": [],
            "_model_module": "@jupyter-widgets/controls",
            "_model_module_version": "1.5.0",
            "_model_name": "HBoxModel",
            "_view_count": null,
            "_view_module": "@jupyter-widgets/controls",
            "_view_module_version": "1.5.0",
            "_view_name": "HBoxView",
            "box_style": "",
            "children": [
              "IPY_MODEL_52bbb01a1df74163a08f425943bdcd4f",
              "IPY_MODEL_20e278974c884e15b05b196ac8edbf28",
              "IPY_MODEL_11eb59fd5a4c4ab9acac759093bbd3a8"
            ],
            "layout": "IPY_MODEL_0cc74f16a38b4df3a657352d9bc3deb9"
          }
        },
        "52bbb01a1df74163a08f425943bdcd4f": {
          "model_module": "@jupyter-widgets/controls",
          "model_name": "HTMLModel",
          "model_module_version": "1.5.0",
          "state": {
            "_dom_classes": [],
            "_model_module": "@jupyter-widgets/controls",
            "_model_module_version": "1.5.0",
            "_model_name": "HTMLModel",
            "_view_count": null,
            "_view_module": "@jupyter-widgets/controls",
            "_view_module_version": "1.5.0",
            "_view_name": "HTMLView",
            "description": "",
            "description_tooltip": null,
            "layout": "IPY_MODEL_20e04ea05e444945bfca2a524c6f6aac",
            "placeholder": "​",
            "style": "IPY_MODEL_eddd7699076b4ca4b92cb0757e7da2f5",
            "value": "100%"
          }
        },
        "20e278974c884e15b05b196ac8edbf28": {
          "model_module": "@jupyter-widgets/controls",
          "model_name": "FloatProgressModel",
          "model_module_version": "1.5.0",
          "state": {
            "_dom_classes": [],
            "_model_module": "@jupyter-widgets/controls",
            "_model_module_version": "1.5.0",
            "_model_name": "FloatProgressModel",
            "_view_count": null,
            "_view_module": "@jupyter-widgets/controls",
            "_view_module_version": "1.5.0",
            "_view_name": "ProgressView",
            "bar_style": "success",
            "description": "",
            "description_tooltip": null,
            "layout": "IPY_MODEL_c7d6a8b18de14c81b1d98ff109a0ec70",
            "max": 2079,
            "min": 0,
            "orientation": "horizontal",
            "style": "IPY_MODEL_7cfe8aa996d94bdcaf7711e446091d7a",
            "value": 2079
          }
        },
        "11eb59fd5a4c4ab9acac759093bbd3a8": {
          "model_module": "@jupyter-widgets/controls",
          "model_name": "HTMLModel",
          "model_module_version": "1.5.0",
          "state": {
            "_dom_classes": [],
            "_model_module": "@jupyter-widgets/controls",
            "_model_module_version": "1.5.0",
            "_model_name": "HTMLModel",
            "_view_count": null,
            "_view_module": "@jupyter-widgets/controls",
            "_view_module_version": "1.5.0",
            "_view_name": "HTMLView",
            "description": "",
            "description_tooltip": null,
            "layout": "IPY_MODEL_06a897e09e274191a0096c9477386a33",
            "placeholder": "​",
            "style": "IPY_MODEL_ed7798086ead417690ff8fc15b38549a",
            "value": " 2079/2079 [00:03&lt;00:00, 329.13it/s]"
          }
        },
        "0cc74f16a38b4df3a657352d9bc3deb9": {
          "model_module": "@jupyter-widgets/base",
          "model_name": "LayoutModel",
          "model_module_version": "1.2.0",
          "state": {
            "_model_module": "@jupyter-widgets/base",
            "_model_module_version": "1.2.0",
            "_model_name": "LayoutModel",
            "_view_count": null,
            "_view_module": "@jupyter-widgets/base",
            "_view_module_version": "1.2.0",
            "_view_name": "LayoutView",
            "align_content": null,
            "align_items": null,
            "align_self": null,
            "border": null,
            "bottom": null,
            "display": null,
            "flex": null,
            "flex_flow": null,
            "grid_area": null,
            "grid_auto_columns": null,
            "grid_auto_flow": null,
            "grid_auto_rows": null,
            "grid_column": null,
            "grid_gap": null,
            "grid_row": null,
            "grid_template_areas": null,
            "grid_template_columns": null,
            "grid_template_rows": null,
            "height": null,
            "justify_content": null,
            "justify_items": null,
            "left": null,
            "margin": null,
            "max_height": null,
            "max_width": null,
            "min_height": null,
            "min_width": null,
            "object_fit": null,
            "object_position": null,
            "order": null,
            "overflow": null,
            "overflow_x": null,
            "overflow_y": null,
            "padding": null,
            "right": null,
            "top": null,
            "visibility": null,
            "width": null
          }
        },
        "20e04ea05e444945bfca2a524c6f6aac": {
          "model_module": "@jupyter-widgets/base",
          "model_name": "LayoutModel",
          "model_module_version": "1.2.0",
          "state": {
            "_model_module": "@jupyter-widgets/base",
            "_model_module_version": "1.2.0",
            "_model_name": "LayoutModel",
            "_view_count": null,
            "_view_module": "@jupyter-widgets/base",
            "_view_module_version": "1.2.0",
            "_view_name": "LayoutView",
            "align_content": null,
            "align_items": null,
            "align_self": null,
            "border": null,
            "bottom": null,
            "display": null,
            "flex": null,
            "flex_flow": null,
            "grid_area": null,
            "grid_auto_columns": null,
            "grid_auto_flow": null,
            "grid_auto_rows": null,
            "grid_column": null,
            "grid_gap": null,
            "grid_row": null,
            "grid_template_areas": null,
            "grid_template_columns": null,
            "grid_template_rows": null,
            "height": null,
            "justify_content": null,
            "justify_items": null,
            "left": null,
            "margin": null,
            "max_height": null,
            "max_width": null,
            "min_height": null,
            "min_width": null,
            "object_fit": null,
            "object_position": null,
            "order": null,
            "overflow": null,
            "overflow_x": null,
            "overflow_y": null,
            "padding": null,
            "right": null,
            "top": null,
            "visibility": null,
            "width": null
          }
        },
        "eddd7699076b4ca4b92cb0757e7da2f5": {
          "model_module": "@jupyter-widgets/controls",
          "model_name": "DescriptionStyleModel",
          "model_module_version": "1.5.0",
          "state": {
            "_model_module": "@jupyter-widgets/controls",
            "_model_module_version": "1.5.0",
            "_model_name": "DescriptionStyleModel",
            "_view_count": null,
            "_view_module": "@jupyter-widgets/base",
            "_view_module_version": "1.2.0",
            "_view_name": "StyleView",
            "description_width": ""
          }
        },
        "c7d6a8b18de14c81b1d98ff109a0ec70": {
          "model_module": "@jupyter-widgets/base",
          "model_name": "LayoutModel",
          "model_module_version": "1.2.0",
          "state": {
            "_model_module": "@jupyter-widgets/base",
            "_model_module_version": "1.2.0",
            "_model_name": "LayoutModel",
            "_view_count": null,
            "_view_module": "@jupyter-widgets/base",
            "_view_module_version": "1.2.0",
            "_view_name": "LayoutView",
            "align_content": null,
            "align_items": null,
            "align_self": null,
            "border": null,
            "bottom": null,
            "display": null,
            "flex": null,
            "flex_flow": null,
            "grid_area": null,
            "grid_auto_columns": null,
            "grid_auto_flow": null,
            "grid_auto_rows": null,
            "grid_column": null,
            "grid_gap": null,
            "grid_row": null,
            "grid_template_areas": null,
            "grid_template_columns": null,
            "grid_template_rows": null,
            "height": null,
            "justify_content": null,
            "justify_items": null,
            "left": null,
            "margin": null,
            "max_height": null,
            "max_width": null,
            "min_height": null,
            "min_width": null,
            "object_fit": null,
            "object_position": null,
            "order": null,
            "overflow": null,
            "overflow_x": null,
            "overflow_y": null,
            "padding": null,
            "right": null,
            "top": null,
            "visibility": null,
            "width": null
          }
        },
        "7cfe8aa996d94bdcaf7711e446091d7a": {
          "model_module": "@jupyter-widgets/controls",
          "model_name": "ProgressStyleModel",
          "model_module_version": "1.5.0",
          "state": {
            "_model_module": "@jupyter-widgets/controls",
            "_model_module_version": "1.5.0",
            "_model_name": "ProgressStyleModel",
            "_view_count": null,
            "_view_module": "@jupyter-widgets/base",
            "_view_module_version": "1.2.0",
            "_view_name": "StyleView",
            "bar_color": null,
            "description_width": ""
          }
        },
        "06a897e09e274191a0096c9477386a33": {
          "model_module": "@jupyter-widgets/base",
          "model_name": "LayoutModel",
          "model_module_version": "1.2.0",
          "state": {
            "_model_module": "@jupyter-widgets/base",
            "_model_module_version": "1.2.0",
            "_model_name": "LayoutModel",
            "_view_count": null,
            "_view_module": "@jupyter-widgets/base",
            "_view_module_version": "1.2.0",
            "_view_name": "LayoutView",
            "align_content": null,
            "align_items": null,
            "align_self": null,
            "border": null,
            "bottom": null,
            "display": null,
            "flex": null,
            "flex_flow": null,
            "grid_area": null,
            "grid_auto_columns": null,
            "grid_auto_flow": null,
            "grid_auto_rows": null,
            "grid_column": null,
            "grid_gap": null,
            "grid_row": null,
            "grid_template_areas": null,
            "grid_template_columns": null,
            "grid_template_rows": null,
            "height": null,
            "justify_content": null,
            "justify_items": null,
            "left": null,
            "margin": null,
            "max_height": null,
            "max_width": null,
            "min_height": null,
            "min_width": null,
            "object_fit": null,
            "object_position": null,
            "order": null,
            "overflow": null,
            "overflow_x": null,
            "overflow_y": null,
            "padding": null,
            "right": null,
            "top": null,
            "visibility": null,
            "width": null
          }
        },
        "ed7798086ead417690ff8fc15b38549a": {
          "model_module": "@jupyter-widgets/controls",
          "model_name": "DescriptionStyleModel",
          "model_module_version": "1.5.0",
          "state": {
            "_model_module": "@jupyter-widgets/controls",
            "_model_module_version": "1.5.0",
            "_model_name": "DescriptionStyleModel",
            "_view_count": null,
            "_view_module": "@jupyter-widgets/base",
            "_view_module_version": "1.2.0",
            "_view_name": "StyleView",
            "description_width": ""
          }
        },
        "a29c60039c1b486d9ae3322d881e7377": {
          "model_module": "@jupyter-widgets/controls",
          "model_name": "HBoxModel",
          "model_module_version": "1.5.0",
          "state": {
            "_dom_classes": [],
            "_model_module": "@jupyter-widgets/controls",
            "_model_module_version": "1.5.0",
            "_model_name": "HBoxModel",
            "_view_count": null,
            "_view_module": "@jupyter-widgets/controls",
            "_view_module_version": "1.5.0",
            "_view_name": "HBoxView",
            "box_style": "",
            "children": [
              "IPY_MODEL_aa1be106a31f475596ea620620f0dc02",
              "IPY_MODEL_1f822f095ad84d3fae20739273b89f70",
              "IPY_MODEL_527315c5bbc74c2fb82b39f9bbbbdbb9"
            ],
            "layout": "IPY_MODEL_1e49602947be4352ba6cb12741d70f4e"
          }
        },
        "aa1be106a31f475596ea620620f0dc02": {
          "model_module": "@jupyter-widgets/controls",
          "model_name": "HTMLModel",
          "model_module_version": "1.5.0",
          "state": {
            "_dom_classes": [],
            "_model_module": "@jupyter-widgets/controls",
            "_model_module_version": "1.5.0",
            "_model_name": "HTMLModel",
            "_view_count": null,
            "_view_module": "@jupyter-widgets/controls",
            "_view_module_version": "1.5.0",
            "_view_name": "HTMLView",
            "description": "",
            "description_tooltip": null,
            "layout": "IPY_MODEL_0792c490de1946c0bcde40dc7bd16877",
            "placeholder": "​",
            "style": "IPY_MODEL_68c1983391c24ceca694a512123f8b4e",
            "value": "100%"
          }
        },
        "1f822f095ad84d3fae20739273b89f70": {
          "model_module": "@jupyter-widgets/controls",
          "model_name": "FloatProgressModel",
          "model_module_version": "1.5.0",
          "state": {
            "_dom_classes": [],
            "_model_module": "@jupyter-widgets/controls",
            "_model_module_version": "1.5.0",
            "_model_name": "FloatProgressModel",
            "_view_count": null,
            "_view_module": "@jupyter-widgets/controls",
            "_view_module_version": "1.5.0",
            "_view_name": "ProgressView",
            "bar_style": "success",
            "description": "",
            "description_tooltip": null,
            "layout": "IPY_MODEL_8d14783e931b424cb0dc8f310de97a2b",
            "max": 4157,
            "min": 0,
            "orientation": "horizontal",
            "style": "IPY_MODEL_a8033a9759e341bd9011497fd73efb64",
            "value": 4157
          }
        },
        "527315c5bbc74c2fb82b39f9bbbbdbb9": {
          "model_module": "@jupyter-widgets/controls",
          "model_name": "HTMLModel",
          "model_module_version": "1.5.0",
          "state": {
            "_dom_classes": [],
            "_model_module": "@jupyter-widgets/controls",
            "_model_module_version": "1.5.0",
            "_model_name": "HTMLModel",
            "_view_count": null,
            "_view_module": "@jupyter-widgets/controls",
            "_view_module_version": "1.5.0",
            "_view_name": "HTMLView",
            "description": "",
            "description_tooltip": null,
            "layout": "IPY_MODEL_98dbecb62253466f89668be96cb90d10",
            "placeholder": "​",
            "style": "IPY_MODEL_f7353db0409f4c4aa046b545de0b8279",
            "value": " 4157/4157 [00:03&lt;00:00, 1057.36it/s]"
          }
        },
        "1e49602947be4352ba6cb12741d70f4e": {
          "model_module": "@jupyter-widgets/base",
          "model_name": "LayoutModel",
          "model_module_version": "1.2.0",
          "state": {
            "_model_module": "@jupyter-widgets/base",
            "_model_module_version": "1.2.0",
            "_model_name": "LayoutModel",
            "_view_count": null,
            "_view_module": "@jupyter-widgets/base",
            "_view_module_version": "1.2.0",
            "_view_name": "LayoutView",
            "align_content": null,
            "align_items": null,
            "align_self": null,
            "border": null,
            "bottom": null,
            "display": null,
            "flex": null,
            "flex_flow": null,
            "grid_area": null,
            "grid_auto_columns": null,
            "grid_auto_flow": null,
            "grid_auto_rows": null,
            "grid_column": null,
            "grid_gap": null,
            "grid_row": null,
            "grid_template_areas": null,
            "grid_template_columns": null,
            "grid_template_rows": null,
            "height": null,
            "justify_content": null,
            "justify_items": null,
            "left": null,
            "margin": null,
            "max_height": null,
            "max_width": null,
            "min_height": null,
            "min_width": null,
            "object_fit": null,
            "object_position": null,
            "order": null,
            "overflow": null,
            "overflow_x": null,
            "overflow_y": null,
            "padding": null,
            "right": null,
            "top": null,
            "visibility": null,
            "width": null
          }
        },
        "0792c490de1946c0bcde40dc7bd16877": {
          "model_module": "@jupyter-widgets/base",
          "model_name": "LayoutModel",
          "model_module_version": "1.2.0",
          "state": {
            "_model_module": "@jupyter-widgets/base",
            "_model_module_version": "1.2.0",
            "_model_name": "LayoutModel",
            "_view_count": null,
            "_view_module": "@jupyter-widgets/base",
            "_view_module_version": "1.2.0",
            "_view_name": "LayoutView",
            "align_content": null,
            "align_items": null,
            "align_self": null,
            "border": null,
            "bottom": null,
            "display": null,
            "flex": null,
            "flex_flow": null,
            "grid_area": null,
            "grid_auto_columns": null,
            "grid_auto_flow": null,
            "grid_auto_rows": null,
            "grid_column": null,
            "grid_gap": null,
            "grid_row": null,
            "grid_template_areas": null,
            "grid_template_columns": null,
            "grid_template_rows": null,
            "height": null,
            "justify_content": null,
            "justify_items": null,
            "left": null,
            "margin": null,
            "max_height": null,
            "max_width": null,
            "min_height": null,
            "min_width": null,
            "object_fit": null,
            "object_position": null,
            "order": null,
            "overflow": null,
            "overflow_x": null,
            "overflow_y": null,
            "padding": null,
            "right": null,
            "top": null,
            "visibility": null,
            "width": null
          }
        },
        "68c1983391c24ceca694a512123f8b4e": {
          "model_module": "@jupyter-widgets/controls",
          "model_name": "DescriptionStyleModel",
          "model_module_version": "1.5.0",
          "state": {
            "_model_module": "@jupyter-widgets/controls",
            "_model_module_version": "1.5.0",
            "_model_name": "DescriptionStyleModel",
            "_view_count": null,
            "_view_module": "@jupyter-widgets/base",
            "_view_module_version": "1.2.0",
            "_view_name": "StyleView",
            "description_width": ""
          }
        },
        "8d14783e931b424cb0dc8f310de97a2b": {
          "model_module": "@jupyter-widgets/base",
          "model_name": "LayoutModel",
          "model_module_version": "1.2.0",
          "state": {
            "_model_module": "@jupyter-widgets/base",
            "_model_module_version": "1.2.0",
            "_model_name": "LayoutModel",
            "_view_count": null,
            "_view_module": "@jupyter-widgets/base",
            "_view_module_version": "1.2.0",
            "_view_name": "LayoutView",
            "align_content": null,
            "align_items": null,
            "align_self": null,
            "border": null,
            "bottom": null,
            "display": null,
            "flex": null,
            "flex_flow": null,
            "grid_area": null,
            "grid_auto_columns": null,
            "grid_auto_flow": null,
            "grid_auto_rows": null,
            "grid_column": null,
            "grid_gap": null,
            "grid_row": null,
            "grid_template_areas": null,
            "grid_template_columns": null,
            "grid_template_rows": null,
            "height": null,
            "justify_content": null,
            "justify_items": null,
            "left": null,
            "margin": null,
            "max_height": null,
            "max_width": null,
            "min_height": null,
            "min_width": null,
            "object_fit": null,
            "object_position": null,
            "order": null,
            "overflow": null,
            "overflow_x": null,
            "overflow_y": null,
            "padding": null,
            "right": null,
            "top": null,
            "visibility": null,
            "width": null
          }
        },
        "a8033a9759e341bd9011497fd73efb64": {
          "model_module": "@jupyter-widgets/controls",
          "model_name": "ProgressStyleModel",
          "model_module_version": "1.5.0",
          "state": {
            "_model_module": "@jupyter-widgets/controls",
            "_model_module_version": "1.5.0",
            "_model_name": "ProgressStyleModel",
            "_view_count": null,
            "_view_module": "@jupyter-widgets/base",
            "_view_module_version": "1.2.0",
            "_view_name": "StyleView",
            "bar_color": null,
            "description_width": ""
          }
        },
        "98dbecb62253466f89668be96cb90d10": {
          "model_module": "@jupyter-widgets/base",
          "model_name": "LayoutModel",
          "model_module_version": "1.2.0",
          "state": {
            "_model_module": "@jupyter-widgets/base",
            "_model_module_version": "1.2.0",
            "_model_name": "LayoutModel",
            "_view_count": null,
            "_view_module": "@jupyter-widgets/base",
            "_view_module_version": "1.2.0",
            "_view_name": "LayoutView",
            "align_content": null,
            "align_items": null,
            "align_self": null,
            "border": null,
            "bottom": null,
            "display": null,
            "flex": null,
            "flex_flow": null,
            "grid_area": null,
            "grid_auto_columns": null,
            "grid_auto_flow": null,
            "grid_auto_rows": null,
            "grid_column": null,
            "grid_gap": null,
            "grid_row": null,
            "grid_template_areas": null,
            "grid_template_columns": null,
            "grid_template_rows": null,
            "height": null,
            "justify_content": null,
            "justify_items": null,
            "left": null,
            "margin": null,
            "max_height": null,
            "max_width": null,
            "min_height": null,
            "min_width": null,
            "object_fit": null,
            "object_position": null,
            "order": null,
            "overflow": null,
            "overflow_x": null,
            "overflow_y": null,
            "padding": null,
            "right": null,
            "top": null,
            "visibility": null,
            "width": null
          }
        },
        "f7353db0409f4c4aa046b545de0b8279": {
          "model_module": "@jupyter-widgets/controls",
          "model_name": "DescriptionStyleModel",
          "model_module_version": "1.5.0",
          "state": {
            "_model_module": "@jupyter-widgets/controls",
            "_model_module_version": "1.5.0",
            "_model_name": "DescriptionStyleModel",
            "_view_count": null,
            "_view_module": "@jupyter-widgets/base",
            "_view_module_version": "1.2.0",
            "_view_name": "StyleView",
            "description_width": ""
          }
        },
        "0efe9c6cd46c4d8a9be752b9a0305c2f": {
          "model_module": "@jupyter-widgets/controls",
          "model_name": "HBoxModel",
          "model_module_version": "1.5.0",
          "state": {
            "_dom_classes": [],
            "_model_module": "@jupyter-widgets/controls",
            "_model_module_version": "1.5.0",
            "_model_name": "HBoxModel",
            "_view_count": null,
            "_view_module": "@jupyter-widgets/controls",
            "_view_module_version": "1.5.0",
            "_view_name": "HBoxView",
            "box_style": "",
            "children": [
              "IPY_MODEL_9aaa58c3b1a3430992d837d3a2b11000",
              "IPY_MODEL_6901ce61c55a4d07b441c4de0edf773e",
              "IPY_MODEL_1b17d72a86334cc7869f9dac7830b67b"
            ],
            "layout": "IPY_MODEL_97dc8fc725544208bccaa17840602d4b"
          }
        },
        "9aaa58c3b1a3430992d837d3a2b11000": {
          "model_module": "@jupyter-widgets/controls",
          "model_name": "HTMLModel",
          "model_module_version": "1.5.0",
          "state": {
            "_dom_classes": [],
            "_model_module": "@jupyter-widgets/controls",
            "_model_module_version": "1.5.0",
            "_model_name": "HTMLModel",
            "_view_count": null,
            "_view_module": "@jupyter-widgets/controls",
            "_view_module_version": "1.5.0",
            "_view_name": "HTMLView",
            "description": "",
            "description_tooltip": null,
            "layout": "IPY_MODEL_498375390a5643ab9b75983f3cea8eb8",
            "placeholder": "​",
            "style": "IPY_MODEL_9147e0ff3c4a41ce8cad28e87ab5f4f6",
            "value": "100%"
          }
        },
        "6901ce61c55a4d07b441c4de0edf773e": {
          "model_module": "@jupyter-widgets/controls",
          "model_name": "FloatProgressModel",
          "model_module_version": "1.5.0",
          "state": {
            "_dom_classes": [],
            "_model_module": "@jupyter-widgets/controls",
            "_model_module_version": "1.5.0",
            "_model_name": "FloatProgressModel",
            "_view_count": null,
            "_view_module": "@jupyter-widgets/controls",
            "_view_module_version": "1.5.0",
            "_view_name": "ProgressView",
            "bar_style": "success",
            "description": "",
            "description_tooltip": null,
            "layout": "IPY_MODEL_0107d08ba1b2466082dd073c8934ae3e",
            "max": 910,
            "min": 0,
            "orientation": "horizontal",
            "style": "IPY_MODEL_17e3ec45d87f41909fee80b17d97ed58",
            "value": 910
          }
        },
        "1b17d72a86334cc7869f9dac7830b67b": {
          "model_module": "@jupyter-widgets/controls",
          "model_name": "HTMLModel",
          "model_module_version": "1.5.0",
          "state": {
            "_dom_classes": [],
            "_model_module": "@jupyter-widgets/controls",
            "_model_module_version": "1.5.0",
            "_model_name": "HTMLModel",
            "_view_count": null,
            "_view_module": "@jupyter-widgets/controls",
            "_view_module_version": "1.5.0",
            "_view_name": "HTMLView",
            "description": "",
            "description_tooltip": null,
            "layout": "IPY_MODEL_902e440d57f94123aa4fa9903e7b037c",
            "placeholder": "​",
            "style": "IPY_MODEL_6294215f21ca49b29106e7bb1448b566",
            "value": " 910/910 [11:29&lt;00:00,  1.42it/s]"
          }
        },
        "97dc8fc725544208bccaa17840602d4b": {
          "model_module": "@jupyter-widgets/base",
          "model_name": "LayoutModel",
          "model_module_version": "1.2.0",
          "state": {
            "_model_module": "@jupyter-widgets/base",
            "_model_module_version": "1.2.0",
            "_model_name": "LayoutModel",
            "_view_count": null,
            "_view_module": "@jupyter-widgets/base",
            "_view_module_version": "1.2.0",
            "_view_name": "LayoutView",
            "align_content": null,
            "align_items": null,
            "align_self": null,
            "border": null,
            "bottom": null,
            "display": null,
            "flex": null,
            "flex_flow": null,
            "grid_area": null,
            "grid_auto_columns": null,
            "grid_auto_flow": null,
            "grid_auto_rows": null,
            "grid_column": null,
            "grid_gap": null,
            "grid_row": null,
            "grid_template_areas": null,
            "grid_template_columns": null,
            "grid_template_rows": null,
            "height": null,
            "justify_content": null,
            "justify_items": null,
            "left": null,
            "margin": null,
            "max_height": null,
            "max_width": null,
            "min_height": null,
            "min_width": null,
            "object_fit": null,
            "object_position": null,
            "order": null,
            "overflow": null,
            "overflow_x": null,
            "overflow_y": null,
            "padding": null,
            "right": null,
            "top": null,
            "visibility": null,
            "width": null
          }
        },
        "498375390a5643ab9b75983f3cea8eb8": {
          "model_module": "@jupyter-widgets/base",
          "model_name": "LayoutModel",
          "model_module_version": "1.2.0",
          "state": {
            "_model_module": "@jupyter-widgets/base",
            "_model_module_version": "1.2.0",
            "_model_name": "LayoutModel",
            "_view_count": null,
            "_view_module": "@jupyter-widgets/base",
            "_view_module_version": "1.2.0",
            "_view_name": "LayoutView",
            "align_content": null,
            "align_items": null,
            "align_self": null,
            "border": null,
            "bottom": null,
            "display": null,
            "flex": null,
            "flex_flow": null,
            "grid_area": null,
            "grid_auto_columns": null,
            "grid_auto_flow": null,
            "grid_auto_rows": null,
            "grid_column": null,
            "grid_gap": null,
            "grid_row": null,
            "grid_template_areas": null,
            "grid_template_columns": null,
            "grid_template_rows": null,
            "height": null,
            "justify_content": null,
            "justify_items": null,
            "left": null,
            "margin": null,
            "max_height": null,
            "max_width": null,
            "min_height": null,
            "min_width": null,
            "object_fit": null,
            "object_position": null,
            "order": null,
            "overflow": null,
            "overflow_x": null,
            "overflow_y": null,
            "padding": null,
            "right": null,
            "top": null,
            "visibility": null,
            "width": null
          }
        },
        "9147e0ff3c4a41ce8cad28e87ab5f4f6": {
          "model_module": "@jupyter-widgets/controls",
          "model_name": "DescriptionStyleModel",
          "model_module_version": "1.5.0",
          "state": {
            "_model_module": "@jupyter-widgets/controls",
            "_model_module_version": "1.5.0",
            "_model_name": "DescriptionStyleModel",
            "_view_count": null,
            "_view_module": "@jupyter-widgets/base",
            "_view_module_version": "1.2.0",
            "_view_name": "StyleView",
            "description_width": ""
          }
        },
        "0107d08ba1b2466082dd073c8934ae3e": {
          "model_module": "@jupyter-widgets/base",
          "model_name": "LayoutModel",
          "model_module_version": "1.2.0",
          "state": {
            "_model_module": "@jupyter-widgets/base",
            "_model_module_version": "1.2.0",
            "_model_name": "LayoutModel",
            "_view_count": null,
            "_view_module": "@jupyter-widgets/base",
            "_view_module_version": "1.2.0",
            "_view_name": "LayoutView",
            "align_content": null,
            "align_items": null,
            "align_self": null,
            "border": null,
            "bottom": null,
            "display": null,
            "flex": null,
            "flex_flow": null,
            "grid_area": null,
            "grid_auto_columns": null,
            "grid_auto_flow": null,
            "grid_auto_rows": null,
            "grid_column": null,
            "grid_gap": null,
            "grid_row": null,
            "grid_template_areas": null,
            "grid_template_columns": null,
            "grid_template_rows": null,
            "height": null,
            "justify_content": null,
            "justify_items": null,
            "left": null,
            "margin": null,
            "max_height": null,
            "max_width": null,
            "min_height": null,
            "min_width": null,
            "object_fit": null,
            "object_position": null,
            "order": null,
            "overflow": null,
            "overflow_x": null,
            "overflow_y": null,
            "padding": null,
            "right": null,
            "top": null,
            "visibility": null,
            "width": null
          }
        },
        "17e3ec45d87f41909fee80b17d97ed58": {
          "model_module": "@jupyter-widgets/controls",
          "model_name": "ProgressStyleModel",
          "model_module_version": "1.5.0",
          "state": {
            "_model_module": "@jupyter-widgets/controls",
            "_model_module_version": "1.5.0",
            "_model_name": "ProgressStyleModel",
            "_view_count": null,
            "_view_module": "@jupyter-widgets/base",
            "_view_module_version": "1.2.0",
            "_view_name": "StyleView",
            "bar_color": null,
            "description_width": ""
          }
        },
        "902e440d57f94123aa4fa9903e7b037c": {
          "model_module": "@jupyter-widgets/base",
          "model_name": "LayoutModel",
          "model_module_version": "1.2.0",
          "state": {
            "_model_module": "@jupyter-widgets/base",
            "_model_module_version": "1.2.0",
            "_model_name": "LayoutModel",
            "_view_count": null,
            "_view_module": "@jupyter-widgets/base",
            "_view_module_version": "1.2.0",
            "_view_name": "LayoutView",
            "align_content": null,
            "align_items": null,
            "align_self": null,
            "border": null,
            "bottom": null,
            "display": null,
            "flex": null,
            "flex_flow": null,
            "grid_area": null,
            "grid_auto_columns": null,
            "grid_auto_flow": null,
            "grid_auto_rows": null,
            "grid_column": null,
            "grid_gap": null,
            "grid_row": null,
            "grid_template_areas": null,
            "grid_template_columns": null,
            "grid_template_rows": null,
            "height": null,
            "justify_content": null,
            "justify_items": null,
            "left": null,
            "margin": null,
            "max_height": null,
            "max_width": null,
            "min_height": null,
            "min_width": null,
            "object_fit": null,
            "object_position": null,
            "order": null,
            "overflow": null,
            "overflow_x": null,
            "overflow_y": null,
            "padding": null,
            "right": null,
            "top": null,
            "visibility": null,
            "width": null
          }
        },
        "6294215f21ca49b29106e7bb1448b566": {
          "model_module": "@jupyter-widgets/controls",
          "model_name": "DescriptionStyleModel",
          "model_module_version": "1.5.0",
          "state": {
            "_model_module": "@jupyter-widgets/controls",
            "_model_module_version": "1.5.0",
            "_model_name": "DescriptionStyleModel",
            "_view_count": null,
            "_view_module": "@jupyter-widgets/base",
            "_view_module_version": "1.2.0",
            "_view_name": "StyleView",
            "description_width": ""
          }
        },
        "daa8801a4af94e6688117fe6e958e5a3": {
          "model_module": "@jupyter-widgets/controls",
          "model_name": "HBoxModel",
          "model_module_version": "1.5.0",
          "state": {
            "_dom_classes": [],
            "_model_module": "@jupyter-widgets/controls",
            "_model_module_version": "1.5.0",
            "_model_name": "HBoxModel",
            "_view_count": null,
            "_view_module": "@jupyter-widgets/controls",
            "_view_module_version": "1.5.0",
            "_view_name": "HBoxView",
            "box_style": "",
            "children": [
              "IPY_MODEL_b5d9e39e884c4889a5e1d155a9b1cd5a",
              "IPY_MODEL_763fd2b187bf424e87e041fec614496e",
              "IPY_MODEL_7b9ae91d4c234c659533e258f7d77d05"
            ],
            "layout": "IPY_MODEL_de7cff02f44c4967aadb80fd7e873f24"
          }
        },
        "b5d9e39e884c4889a5e1d155a9b1cd5a": {
          "model_module": "@jupyter-widgets/controls",
          "model_name": "HTMLModel",
          "model_module_version": "1.5.0",
          "state": {
            "_dom_classes": [],
            "_model_module": "@jupyter-widgets/controls",
            "_model_module_version": "1.5.0",
            "_model_name": "HTMLModel",
            "_view_count": null,
            "_view_module": "@jupyter-widgets/controls",
            "_view_module_version": "1.5.0",
            "_view_name": "HTMLView",
            "description": "",
            "description_tooltip": null,
            "layout": "IPY_MODEL_57e9c332604249eab3383cf692018d0c",
            "placeholder": "​",
            "style": "IPY_MODEL_889a2204c6df40018df56a5a71f7d01d",
            "value": "100%"
          }
        },
        "763fd2b187bf424e87e041fec614496e": {
          "model_module": "@jupyter-widgets/controls",
          "model_name": "FloatProgressModel",
          "model_module_version": "1.5.0",
          "state": {
            "_dom_classes": [],
            "_model_module": "@jupyter-widgets/controls",
            "_model_module_version": "1.5.0",
            "_model_name": "FloatProgressModel",
            "_view_count": null,
            "_view_module": "@jupyter-widgets/controls",
            "_view_module_version": "1.5.0",
            "_view_name": "ProgressView",
            "bar_style": "success",
            "description": "",
            "description_tooltip": null,
            "layout": "IPY_MODEL_ff8b905641a04e3795ceb9c381f7906c",
            "max": 910,
            "min": 0,
            "orientation": "horizontal",
            "style": "IPY_MODEL_27c007dfeffd4739b4aa00500b440c86",
            "value": 910
          }
        },
        "7b9ae91d4c234c659533e258f7d77d05": {
          "model_module": "@jupyter-widgets/controls",
          "model_name": "HTMLModel",
          "model_module_version": "1.5.0",
          "state": {
            "_dom_classes": [],
            "_model_module": "@jupyter-widgets/controls",
            "_model_module_version": "1.5.0",
            "_model_name": "HTMLModel",
            "_view_count": null,
            "_view_module": "@jupyter-widgets/controls",
            "_view_module_version": "1.5.0",
            "_view_name": "HTMLView",
            "description": "",
            "description_tooltip": null,
            "layout": "IPY_MODEL_f01e3f21dfd54850bf74b2ecc9d0c6c6",
            "placeholder": "​",
            "style": "IPY_MODEL_ad27e6868df44e72a795b4c8a9125c82",
            "value": " 910/910 [11:31&lt;00:00,  1.17it/s]"
          }
        },
        "de7cff02f44c4967aadb80fd7e873f24": {
          "model_module": "@jupyter-widgets/base",
          "model_name": "LayoutModel",
          "model_module_version": "1.2.0",
          "state": {
            "_model_module": "@jupyter-widgets/base",
            "_model_module_version": "1.2.0",
            "_model_name": "LayoutModel",
            "_view_count": null,
            "_view_module": "@jupyter-widgets/base",
            "_view_module_version": "1.2.0",
            "_view_name": "LayoutView",
            "align_content": null,
            "align_items": null,
            "align_self": null,
            "border": null,
            "bottom": null,
            "display": null,
            "flex": null,
            "flex_flow": null,
            "grid_area": null,
            "grid_auto_columns": null,
            "grid_auto_flow": null,
            "grid_auto_rows": null,
            "grid_column": null,
            "grid_gap": null,
            "grid_row": null,
            "grid_template_areas": null,
            "grid_template_columns": null,
            "grid_template_rows": null,
            "height": null,
            "justify_content": null,
            "justify_items": null,
            "left": null,
            "margin": null,
            "max_height": null,
            "max_width": null,
            "min_height": null,
            "min_width": null,
            "object_fit": null,
            "object_position": null,
            "order": null,
            "overflow": null,
            "overflow_x": null,
            "overflow_y": null,
            "padding": null,
            "right": null,
            "top": null,
            "visibility": null,
            "width": null
          }
        },
        "57e9c332604249eab3383cf692018d0c": {
          "model_module": "@jupyter-widgets/base",
          "model_name": "LayoutModel",
          "model_module_version": "1.2.0",
          "state": {
            "_model_module": "@jupyter-widgets/base",
            "_model_module_version": "1.2.0",
            "_model_name": "LayoutModel",
            "_view_count": null,
            "_view_module": "@jupyter-widgets/base",
            "_view_module_version": "1.2.0",
            "_view_name": "LayoutView",
            "align_content": null,
            "align_items": null,
            "align_self": null,
            "border": null,
            "bottom": null,
            "display": null,
            "flex": null,
            "flex_flow": null,
            "grid_area": null,
            "grid_auto_columns": null,
            "grid_auto_flow": null,
            "grid_auto_rows": null,
            "grid_column": null,
            "grid_gap": null,
            "grid_row": null,
            "grid_template_areas": null,
            "grid_template_columns": null,
            "grid_template_rows": null,
            "height": null,
            "justify_content": null,
            "justify_items": null,
            "left": null,
            "margin": null,
            "max_height": null,
            "max_width": null,
            "min_height": null,
            "min_width": null,
            "object_fit": null,
            "object_position": null,
            "order": null,
            "overflow": null,
            "overflow_x": null,
            "overflow_y": null,
            "padding": null,
            "right": null,
            "top": null,
            "visibility": null,
            "width": null
          }
        },
        "889a2204c6df40018df56a5a71f7d01d": {
          "model_module": "@jupyter-widgets/controls",
          "model_name": "DescriptionStyleModel",
          "model_module_version": "1.5.0",
          "state": {
            "_model_module": "@jupyter-widgets/controls",
            "_model_module_version": "1.5.0",
            "_model_name": "DescriptionStyleModel",
            "_view_count": null,
            "_view_module": "@jupyter-widgets/base",
            "_view_module_version": "1.2.0",
            "_view_name": "StyleView",
            "description_width": ""
          }
        },
        "ff8b905641a04e3795ceb9c381f7906c": {
          "model_module": "@jupyter-widgets/base",
          "model_name": "LayoutModel",
          "model_module_version": "1.2.0",
          "state": {
            "_model_module": "@jupyter-widgets/base",
            "_model_module_version": "1.2.0",
            "_model_name": "LayoutModel",
            "_view_count": null,
            "_view_module": "@jupyter-widgets/base",
            "_view_module_version": "1.2.0",
            "_view_name": "LayoutView",
            "align_content": null,
            "align_items": null,
            "align_self": null,
            "border": null,
            "bottom": null,
            "display": null,
            "flex": null,
            "flex_flow": null,
            "grid_area": null,
            "grid_auto_columns": null,
            "grid_auto_flow": null,
            "grid_auto_rows": null,
            "grid_column": null,
            "grid_gap": null,
            "grid_row": null,
            "grid_template_areas": null,
            "grid_template_columns": null,
            "grid_template_rows": null,
            "height": null,
            "justify_content": null,
            "justify_items": null,
            "left": null,
            "margin": null,
            "max_height": null,
            "max_width": null,
            "min_height": null,
            "min_width": null,
            "object_fit": null,
            "object_position": null,
            "order": null,
            "overflow": null,
            "overflow_x": null,
            "overflow_y": null,
            "padding": null,
            "right": null,
            "top": null,
            "visibility": null,
            "width": null
          }
        },
        "27c007dfeffd4739b4aa00500b440c86": {
          "model_module": "@jupyter-widgets/controls",
          "model_name": "ProgressStyleModel",
          "model_module_version": "1.5.0",
          "state": {
            "_model_module": "@jupyter-widgets/controls",
            "_model_module_version": "1.5.0",
            "_model_name": "ProgressStyleModel",
            "_view_count": null,
            "_view_module": "@jupyter-widgets/base",
            "_view_module_version": "1.2.0",
            "_view_name": "StyleView",
            "bar_color": null,
            "description_width": ""
          }
        },
        "f01e3f21dfd54850bf74b2ecc9d0c6c6": {
          "model_module": "@jupyter-widgets/base",
          "model_name": "LayoutModel",
          "model_module_version": "1.2.0",
          "state": {
            "_model_module": "@jupyter-widgets/base",
            "_model_module_version": "1.2.0",
            "_model_name": "LayoutModel",
            "_view_count": null,
            "_view_module": "@jupyter-widgets/base",
            "_view_module_version": "1.2.0",
            "_view_name": "LayoutView",
            "align_content": null,
            "align_items": null,
            "align_self": null,
            "border": null,
            "bottom": null,
            "display": null,
            "flex": null,
            "flex_flow": null,
            "grid_area": null,
            "grid_auto_columns": null,
            "grid_auto_flow": null,
            "grid_auto_rows": null,
            "grid_column": null,
            "grid_gap": null,
            "grid_row": null,
            "grid_template_areas": null,
            "grid_template_columns": null,
            "grid_template_rows": null,
            "height": null,
            "justify_content": null,
            "justify_items": null,
            "left": null,
            "margin": null,
            "max_height": null,
            "max_width": null,
            "min_height": null,
            "min_width": null,
            "object_fit": null,
            "object_position": null,
            "order": null,
            "overflow": null,
            "overflow_x": null,
            "overflow_y": null,
            "padding": null,
            "right": null,
            "top": null,
            "visibility": null,
            "width": null
          }
        },
        "ad27e6868df44e72a795b4c8a9125c82": {
          "model_module": "@jupyter-widgets/controls",
          "model_name": "DescriptionStyleModel",
          "model_module_version": "1.5.0",
          "state": {
            "_model_module": "@jupyter-widgets/controls",
            "_model_module_version": "1.5.0",
            "_model_name": "DescriptionStyleModel",
            "_view_count": null,
            "_view_module": "@jupyter-widgets/base",
            "_view_module_version": "1.2.0",
            "_view_name": "StyleView",
            "description_width": ""
          }
        },
        "a7f0e28e8cd74bc3bf43382f338f04b1": {
          "model_module": "@jupyter-widgets/controls",
          "model_name": "HBoxModel",
          "model_module_version": "1.5.0",
          "state": {
            "_dom_classes": [],
            "_model_module": "@jupyter-widgets/controls",
            "_model_module_version": "1.5.0",
            "_model_name": "HBoxModel",
            "_view_count": null,
            "_view_module": "@jupyter-widgets/controls",
            "_view_module_version": "1.5.0",
            "_view_name": "HBoxView",
            "box_style": "",
            "children": [
              "IPY_MODEL_b8f86568ba414b3eb45aea9651fb5253",
              "IPY_MODEL_4b816b402e48451c90662a8b2be8b31e",
              "IPY_MODEL_2c3cea9b0a364b8ababf7ddb9795d163"
            ],
            "layout": "IPY_MODEL_c8b7b78edadb42ff8b0cde0cb0e7167a"
          }
        },
        "b8f86568ba414b3eb45aea9651fb5253": {
          "model_module": "@jupyter-widgets/controls",
          "model_name": "HTMLModel",
          "model_module_version": "1.5.0",
          "state": {
            "_dom_classes": [],
            "_model_module": "@jupyter-widgets/controls",
            "_model_module_version": "1.5.0",
            "_model_name": "HTMLModel",
            "_view_count": null,
            "_view_module": "@jupyter-widgets/controls",
            "_view_module_version": "1.5.0",
            "_view_name": "HTMLView",
            "description": "",
            "description_tooltip": null,
            "layout": "IPY_MODEL_f18698197ff24b3793f22ee9b5df66c1",
            "placeholder": "​",
            "style": "IPY_MODEL_867e79d9512340b9953e3f09c5342272",
            "value": "  2%"
          }
        },
        "4b816b402e48451c90662a8b2be8b31e": {
          "model_module": "@jupyter-widgets/controls",
          "model_name": "FloatProgressModel",
          "model_module_version": "1.5.0",
          "state": {
            "_dom_classes": [],
            "_model_module": "@jupyter-widgets/controls",
            "_model_module_version": "1.5.0",
            "_model_name": "FloatProgressModel",
            "_view_count": null,
            "_view_module": "@jupyter-widgets/controls",
            "_view_module_version": "1.5.0",
            "_view_name": "ProgressView",
            "bar_style": "danger",
            "description": "",
            "description_tooltip": null,
            "layout": "IPY_MODEL_33591a7d958d4650a78e0ddfbd8eda97",
            "max": 910,
            "min": 0,
            "orientation": "horizontal",
            "style": "IPY_MODEL_16db5fa4dbfd4ae983b82a31713b4a40",
            "value": 17
          }
        },
        "2c3cea9b0a364b8ababf7ddb9795d163": {
          "model_module": "@jupyter-widgets/controls",
          "model_name": "HTMLModel",
          "model_module_version": "1.5.0",
          "state": {
            "_dom_classes": [],
            "_model_module": "@jupyter-widgets/controls",
            "_model_module_version": "1.5.0",
            "_model_name": "HTMLModel",
            "_view_count": null,
            "_view_module": "@jupyter-widgets/controls",
            "_view_module_version": "1.5.0",
            "_view_name": "HTMLView",
            "description": "",
            "description_tooltip": null,
            "layout": "IPY_MODEL_a70741c7a06d4a858edd5f1ce09307c4",
            "placeholder": "​",
            "style": "IPY_MODEL_18924e8af28e405eab3a3a340b4d3f6c",
            "value": " 17/910 [00:12&lt;08:31,  1.75it/s]"
          }
        },
        "c8b7b78edadb42ff8b0cde0cb0e7167a": {
          "model_module": "@jupyter-widgets/base",
          "model_name": "LayoutModel",
          "model_module_version": "1.2.0",
          "state": {
            "_model_module": "@jupyter-widgets/base",
            "_model_module_version": "1.2.0",
            "_model_name": "LayoutModel",
            "_view_count": null,
            "_view_module": "@jupyter-widgets/base",
            "_view_module_version": "1.2.0",
            "_view_name": "LayoutView",
            "align_content": null,
            "align_items": null,
            "align_self": null,
            "border": null,
            "bottom": null,
            "display": null,
            "flex": null,
            "flex_flow": null,
            "grid_area": null,
            "grid_auto_columns": null,
            "grid_auto_flow": null,
            "grid_auto_rows": null,
            "grid_column": null,
            "grid_gap": null,
            "grid_row": null,
            "grid_template_areas": null,
            "grid_template_columns": null,
            "grid_template_rows": null,
            "height": null,
            "justify_content": null,
            "justify_items": null,
            "left": null,
            "margin": null,
            "max_height": null,
            "max_width": null,
            "min_height": null,
            "min_width": null,
            "object_fit": null,
            "object_position": null,
            "order": null,
            "overflow": null,
            "overflow_x": null,
            "overflow_y": null,
            "padding": null,
            "right": null,
            "top": null,
            "visibility": null,
            "width": null
          }
        },
        "f18698197ff24b3793f22ee9b5df66c1": {
          "model_module": "@jupyter-widgets/base",
          "model_name": "LayoutModel",
          "model_module_version": "1.2.0",
          "state": {
            "_model_module": "@jupyter-widgets/base",
            "_model_module_version": "1.2.0",
            "_model_name": "LayoutModel",
            "_view_count": null,
            "_view_module": "@jupyter-widgets/base",
            "_view_module_version": "1.2.0",
            "_view_name": "LayoutView",
            "align_content": null,
            "align_items": null,
            "align_self": null,
            "border": null,
            "bottom": null,
            "display": null,
            "flex": null,
            "flex_flow": null,
            "grid_area": null,
            "grid_auto_columns": null,
            "grid_auto_flow": null,
            "grid_auto_rows": null,
            "grid_column": null,
            "grid_gap": null,
            "grid_row": null,
            "grid_template_areas": null,
            "grid_template_columns": null,
            "grid_template_rows": null,
            "height": null,
            "justify_content": null,
            "justify_items": null,
            "left": null,
            "margin": null,
            "max_height": null,
            "max_width": null,
            "min_height": null,
            "min_width": null,
            "object_fit": null,
            "object_position": null,
            "order": null,
            "overflow": null,
            "overflow_x": null,
            "overflow_y": null,
            "padding": null,
            "right": null,
            "top": null,
            "visibility": null,
            "width": null
          }
        },
        "867e79d9512340b9953e3f09c5342272": {
          "model_module": "@jupyter-widgets/controls",
          "model_name": "DescriptionStyleModel",
          "model_module_version": "1.5.0",
          "state": {
            "_model_module": "@jupyter-widgets/controls",
            "_model_module_version": "1.5.0",
            "_model_name": "DescriptionStyleModel",
            "_view_count": null,
            "_view_module": "@jupyter-widgets/base",
            "_view_module_version": "1.2.0",
            "_view_name": "StyleView",
            "description_width": ""
          }
        },
        "33591a7d958d4650a78e0ddfbd8eda97": {
          "model_module": "@jupyter-widgets/base",
          "model_name": "LayoutModel",
          "model_module_version": "1.2.0",
          "state": {
            "_model_module": "@jupyter-widgets/base",
            "_model_module_version": "1.2.0",
            "_model_name": "LayoutModel",
            "_view_count": null,
            "_view_module": "@jupyter-widgets/base",
            "_view_module_version": "1.2.0",
            "_view_name": "LayoutView",
            "align_content": null,
            "align_items": null,
            "align_self": null,
            "border": null,
            "bottom": null,
            "display": null,
            "flex": null,
            "flex_flow": null,
            "grid_area": null,
            "grid_auto_columns": null,
            "grid_auto_flow": null,
            "grid_auto_rows": null,
            "grid_column": null,
            "grid_gap": null,
            "grid_row": null,
            "grid_template_areas": null,
            "grid_template_columns": null,
            "grid_template_rows": null,
            "height": null,
            "justify_content": null,
            "justify_items": null,
            "left": null,
            "margin": null,
            "max_height": null,
            "max_width": null,
            "min_height": null,
            "min_width": null,
            "object_fit": null,
            "object_position": null,
            "order": null,
            "overflow": null,
            "overflow_x": null,
            "overflow_y": null,
            "padding": null,
            "right": null,
            "top": null,
            "visibility": null,
            "width": null
          }
        },
        "16db5fa4dbfd4ae983b82a31713b4a40": {
          "model_module": "@jupyter-widgets/controls",
          "model_name": "ProgressStyleModel",
          "model_module_version": "1.5.0",
          "state": {
            "_model_module": "@jupyter-widgets/controls",
            "_model_module_version": "1.5.0",
            "_model_name": "ProgressStyleModel",
            "_view_count": null,
            "_view_module": "@jupyter-widgets/base",
            "_view_module_version": "1.2.0",
            "_view_name": "StyleView",
            "bar_color": null,
            "description_width": ""
          }
        },
        "a70741c7a06d4a858edd5f1ce09307c4": {
          "model_module": "@jupyter-widgets/base",
          "model_name": "LayoutModel",
          "model_module_version": "1.2.0",
          "state": {
            "_model_module": "@jupyter-widgets/base",
            "_model_module_version": "1.2.0",
            "_model_name": "LayoutModel",
            "_view_count": null,
            "_view_module": "@jupyter-widgets/base",
            "_view_module_version": "1.2.0",
            "_view_name": "LayoutView",
            "align_content": null,
            "align_items": null,
            "align_self": null,
            "border": null,
            "bottom": null,
            "display": null,
            "flex": null,
            "flex_flow": null,
            "grid_area": null,
            "grid_auto_columns": null,
            "grid_auto_flow": null,
            "grid_auto_rows": null,
            "grid_column": null,
            "grid_gap": null,
            "grid_row": null,
            "grid_template_areas": null,
            "grid_template_columns": null,
            "grid_template_rows": null,
            "height": null,
            "justify_content": null,
            "justify_items": null,
            "left": null,
            "margin": null,
            "max_height": null,
            "max_width": null,
            "min_height": null,
            "min_width": null,
            "object_fit": null,
            "object_position": null,
            "order": null,
            "overflow": null,
            "overflow_x": null,
            "overflow_y": null,
            "padding": null,
            "right": null,
            "top": null,
            "visibility": null,
            "width": null
          }
        },
        "18924e8af28e405eab3a3a340b4d3f6c": {
          "model_module": "@jupyter-widgets/controls",
          "model_name": "DescriptionStyleModel",
          "model_module_version": "1.5.0",
          "state": {
            "_model_module": "@jupyter-widgets/controls",
            "_model_module_version": "1.5.0",
            "_model_name": "DescriptionStyleModel",
            "_view_count": null,
            "_view_module": "@jupyter-widgets/base",
            "_view_module_version": "1.2.0",
            "_view_name": "StyleView",
            "description_width": ""
          }
        }
      }
    },
    "accelerator": "GPU"
  },
  "cells": [
    {
      "cell_type": "markdown",
      "source": [
        "# GermEval 2019 Task 1: Hierarchical Classification of Blurbs\n",
        "\n",
        "The default project is based on shared task (sort of like competition) held in 2019. It's about multi-label classification of so-called blurbs -- short summaries of books (think about an online bookstore). The language of the blurbs and the labels is German.\n",
        "\n",
        "The task is multi-label classification: that is, each blurb can be classified to one or many classes. Actually, the classes are hierarchical (e.g., Fantasy -> Urban Fantasy) but we don't really use the hierarchical nature of the classes.\n",
        "\n",
        "Actually, GermEval 2019 Task 1 has two tasks: task A is about predicting the most general class, and task B is about predicting *all* labels. We only focus on task B.\n",
        "\n",
        "There are a total of 343 different categories and sub-categories.\n",
        "\n",
        "The paper describing the task is available [here](https://www.inf.uni-hamburg.de/en/inst/ab/lt/resources/data/germeval-2019-hmc/gest19-1-description.pdf).\n",
        "\n",
        "\n",
        "What makes the project exciting is that the competition was held in 2019 and many of the teams that competed have published their papers about what they did, and there are also at least some open sourced implementations. The leaderboard of the best submissions is also available in the paper linked above. **Can you outperform the best teams with 2023 technology?**\n",
        "\n",
        "\n",
        "You can read the papers of  winners here:\n",
        " - [Multi-Label Multi-Class Hierarchical Classification using\n",
        "Convolutional Seq2Seq](https://corpora.linguistik.uni-erlangen.de/data/konvens/proceedings/papers/germeval/Germeval_Task1_paper_2.pdf)\n",
        " - [TwistBytes - Hierarchical Classification at GermEval 2019: walking the fine line (of recall and precision)](https://corpora.linguistik.uni-erlangen.de/data/konvens/proceedings/papers/germeval/Germeval_Task1_paper_6.pdf)\n",
        " - [Code and paper of the COMTRAVO-DS team](https://github.com/davidsbatista/GermEval-2019-Task_1)\n",
        "\n",
        "\n",
        "Actually, the papers of all competitiors are available here: https://corpora.linguistik.uni-erlangen.de/data/konvens/proceedings/ (scroll down).\n"
      ],
      "metadata": {
        "id": "BWw2o5kmiHfu"
      }
    },
    {
      "cell_type": "markdown",
      "source": [
        "I have implemented the data loading, evaluation and baseline model for you. \n",
        "\n",
        "First, let's download the data:"
      ],
      "metadata": {
        "id": "ETuyMsH7m3oS"
      }
    },
    {
      "cell_type": "code",
      "source": [
        "import sys\n",
        "import warnings\n",
        "import torch"
      ],
      "metadata": {
        "id": "10VYkbaFcB7I"
      },
      "execution_count": null,
      "outputs": []
    },
    {
      "cell_type": "code",
      "execution_count": null,
      "metadata": {
        "colab": {
          "base_uri": "https://localhost:8080/"
        },
        "id": "SxKrN0-cMfhl",
        "outputId": "f21790fa-0508-4096-960c-36cc3889c5f6"
      },
      "outputs": [
        {
          "output_type": "stream",
          "name": "stdout",
          "text": [
            "--2023-05-31 20:25:18--  https://www.inf.uni-hamburg.de/en/inst/ab/lt/resources/data/germeval-2019-hmc/germeval2019t1-public-data-final.zip\n",
            "Resolving www.inf.uni-hamburg.de (www.inf.uni-hamburg.de)... 134.100.36.5\n",
            "Connecting to www.inf.uni-hamburg.de (www.inf.uni-hamburg.de)|134.100.36.5|:443... connected.\n",
            "HTTP request sent, awaiting response... 200 OK\n",
            "Length: unspecified [application/zip]\n",
            "Saving to: ‘germeval2019t1-public-data-final.zip.1’\n",
            "\n",
            "germeval2019t1-publ     [                <=> ]  13.27M  1.12MB/s    in 12s     \n",
            "\n",
            "2023-05-31 20:25:31 (1.09 MB/s) - ‘germeval2019t1-public-data-final.zip.1’ saved [13915224]\n",
            "\n"
          ]
        }
      ],
      "source": [
        "! wget https://www.inf.uni-hamburg.de/en/inst/ab/lt/resources/data/germeval-2019-hmc/germeval2019t1-public-data-final.zip"
      ]
    },
    {
      "cell_type": "code",
      "source": [
        "! unzip -u -q germeval2019t1-public-data-final.zip"
      ],
      "metadata": {
        "id": "z-1NvnmhRozb"
      },
      "execution_count": null,
      "outputs": []
    },
    {
      "cell_type": "code",
      "source": [
        "! ls -la"
      ],
      "metadata": {
        "colab": {
          "base_uri": "https://localhost:8080/"
        },
        "id": "9Y5COdUfRx5n",
        "outputId": "9539eaf1-d30a-4e78-cf11-e15bb3df16ee"
      },
      "execution_count": null,
      "outputs": [
        {
          "output_type": "stream",
          "name": "stdout",
          "text": [
            "total 62960\n",
            "drwxr-xr-x 1 root root     4096 May 31 20:25 .\n",
            "drwxr-xr-x 1 root root     4096 May 31 17:15 ..\n",
            "-rw-r--r-- 1 root root   233276 Jun  7  2019 blurbs_dev_label.txt\n",
            "-rw-r--r-- 1 root root  1920753 Jun  7  2019 blurbs_dev_nolabel.txt\n",
            "-rw-r--r-- 1 root root  2630464 Jun  7  2019 blurbs_dev.txt\n",
            "-rw-r--r-- 1 root root   469047 Aug  9  2019 blurbs_test_label.txt\n",
            "-rw-r--r-- 1 root root  3787630 Jun  7  2019 blurbs_test_nolabel.txt\n",
            "-rw-r--r-- 1 root root  5217031 Aug 21  2019 blurbs_test.txt\n",
            "-rw-r--r-- 1 root root  1630376 Aug  9  2019 blurbs_train_label.txt\n",
            "-rw-r--r-- 1 root root 18174587 Jun  7  2019 blurbs_train.txt\n",
            "drwxr-xr-x 2 root root     4096 Sep  2  2019 classification_models\n",
            "drwxr-xr-x 4 root root     4096 May 30 13:33 .config\n",
            "-rw-r--r-- 1 root root   251606 Jun  7  2019 description.pdf\n",
            "drwxr-xr-x 3 root root     4096 Dec  6  2019 evaluation\n",
            "-rw-r--r-- 1 root root 13915224 Dec  6  2019 germeval2019t1-public-data-final.zip\n",
            "-rw-r--r-- 1 root root 13915224 Dec  6  2019 germeval2019t1-public-data-final.zip.1\n",
            "-rw-rw-rw- 1 root root  2231900 Dec  6  2019 Germeval_Task1_Report.pdf\n",
            "-rw-r--r-- 1 root root    12933 Jun  7  2019 hierarchy.txt\n",
            "-rw-r--r-- 1 root root    19342 Jun  7  2019 LICENSE\n",
            "-rw-r--r-- 1 root root     2628 Dec  6  2019 README.txt\n",
            "drwxr-xr-x 1 root root     4096 May 30 13:34 sample_data\n",
            "drwxr-xr-x 4 root root     4096 Dec  6  2019 system-submissions\n"
          ]
        }
      ]
    },
    {
      "cell_type": "markdown",
      "source": [
        "The train, dev and test files are in blurbs_{train,dev,test},txt files. They are actually XML files. Let's see:"
      ],
      "metadata": {
        "id": "IKxRsZ-pnA-N"
      }
    },
    {
      "cell_type": "code",
      "source": [
        "!head blurbs_train.txt"
      ],
      "metadata": {
        "colab": {
          "base_uri": "https://localhost:8080/"
        },
        "id": "KNY78XJuRz2n",
        "outputId": "2704fbb8-a2e4-49e2-9875-83071f6f7756"
      },
      "execution_count": null,
      "outputs": [
        {
          "output_type": "stream",
          "name": "stdout",
          "text": [
            "<book date=\"2019-01-04\" xml:lang=\"de\">\n",
            "<title>Die Klinik</title>\n",
            "<body>Ein Blick hinter die Kulissen eines Krankenhauses vom Autor der Bestseller \"Der Medicus\" und \"Der Medicus von Saragossa\". Der Wissenschaftler Adam Silverstone, der kubanische Aristokrat Rafael Meomartino und der Farbige Spurgeon Robinson - sie sind drei grundverschiedene Klinik-Ärzte, die unter der unerbittlichen Aufsicht von Dr. Longwood praktizieren. Eines Tages stirbt eine Patientin, und Dr. Longwood wittert einen Behandlungsfehler. Sofort macht er sich auf die Suche nach einem Schuldigen, dem er die Verantwortung in die Schuhe schieben könnte ...</body>\n",
            "<copyright>(c) Verlagsgruppe Random House GmbH</copyright>\n",
            "<categories>\n",
            "<category>\n",
            "<topic d=\"0\">Literatur & Unterhaltung</topic>\n",
            "<topic d=\"1\" label=\"True\">Romane & Erzählungen</topic>\n",
            "</category>\n",
            "</categories>\n"
          ]
        }
      ]
    },
    {
      "cell_type": "markdown",
      "source": [
        "Let's implement data reading using the BeautifulSoup XML library:"
      ],
      "metadata": {
        "id": "p6a4p6TPnOop"
      }
    },
    {
      "cell_type": "code",
      "source": [
        "from tqdm.notebook import trange, tqdm\n",
        "\n",
        "from bs4 import BeautifulSoup\n",
        "def load_data(filename):\n",
        "    \"\"\"\n",
        "    Loads labels and blurbs of dataset\n",
        "    \"\"\"\n",
        "    data = []\n",
        "    soup = BeautifulSoup(open(filename, 'rt').read(), \"html.parser\")\n",
        "    for book in tqdm(soup.findAll('book')):\n",
        "      categories = set([])\n",
        "      book_soup = BeautifulSoup(str(book), \"html.parser\")\n",
        "      for t in book_soup.findAll('topic'):\n",
        "          categories.add(str(t.string))\n",
        "      data.append((str(book_soup.find(\"body\").string), categories))\n",
        "    return data"
      ],
      "metadata": {
        "id": "bUCDBRmhU5ab"
      },
      "execution_count": null,
      "outputs": []
    },
    {
      "cell_type": "code",
      "source": [
        "train_data = load_data(\"blurbs_train.txt\")"
      ],
      "metadata": {
        "colab": {
          "base_uri": "https://localhost:8080/",
          "height": 49,
          "referenced_widgets": [
            "2d9eadd03f75452c94028b98543e1962",
            "53c273f4fc5647d1b0b0850af128d16b",
            "b4d1dd9aa20b44dd909fe9ce361a2d41",
            "41a9354d3be64fdd91b1a2a11206f01c",
            "c3aba9d6dcce4ebba02cfc293ee053e9",
            "13582669466747eea95a06c585e5fe75",
            "d32bdce5bd8f40a78bc60edf94535a2a",
            "ecbdf0a0a0cf4d13a0861a52899312ab",
            "d63290fcb9194f5bb8d637991bfcdb1b",
            "3e4085bbaa5245fdac04c9b0e470b8f4",
            "2aa29b30fcfe45a1883b0b3bfc4c3273"
          ]
        },
        "id": "KSWZGnO1Wep4",
        "outputId": "57dc820a-4e42-493b-bedb-8f097affcac2"
      },
      "execution_count": null,
      "outputs": [
        {
          "output_type": "display_data",
          "data": {
            "text/plain": [
              "  0%|          | 0/14548 [00:00<?, ?it/s]"
            ],
            "application/vnd.jupyter.widget-view+json": {
              "version_major": 2,
              "version_minor": 0,
              "model_id": "2d9eadd03f75452c94028b98543e1962"
            }
          },
          "metadata": {}
        }
      ]
    },
    {
      "cell_type": "code",
      "source": [
        "train_data[1]"
      ],
      "metadata": {
        "colab": {
          "base_uri": "https://localhost:8080/"
        },
        "id": "kaV1iiY3WmxH",
        "outputId": "551d6141-0ea6-4fd8-c8b8-5c6fb9b39620"
      },
      "execution_count": null,
      "outputs": [
        {
          "output_type": "execute_result",
          "data": {
            "text/plain": [
              "('Die Bedrohungen für Midkemia und Kelewan wollen nicht enden: Obwohl das Konklave der Schatten Leso Varen und seinen Nachtfalken dicht auf den Fersen ist, schmieden sie weiter ihre finsteren Umsturzpläne gegen das Herrscherhaus von Kesh. Zugleich stellt sich heraus, dass von den mysteriösen Talnoy eine bisher ungekannte Gefahr ausgeht: durch ihre magischen Kräfte können die fürchterlichen Dasati ins Reich Midkemia eindringen und alle ins Unheil stürzen …',\n",
              " {'Fantasy', 'Heroische Fantasy', 'Literatur & Unterhaltung'})"
            ]
          },
          "metadata": {},
          "execution_count": 8
        }
      ]
    },
    {
      "cell_type": "code",
      "source": [
        "dev_data = load_data(\"blurbs_dev.txt\")"
      ],
      "metadata": {
        "colab": {
          "base_uri": "https://localhost:8080/",
          "height": 49,
          "referenced_widgets": [
            "a396188cd73a4dba88f1c96226ecc7e9",
            "52bbb01a1df74163a08f425943bdcd4f",
            "20e278974c884e15b05b196ac8edbf28",
            "11eb59fd5a4c4ab9acac759093bbd3a8",
            "0cc74f16a38b4df3a657352d9bc3deb9",
            "20e04ea05e444945bfca2a524c6f6aac",
            "eddd7699076b4ca4b92cb0757e7da2f5",
            "c7d6a8b18de14c81b1d98ff109a0ec70",
            "7cfe8aa996d94bdcaf7711e446091d7a",
            "06a897e09e274191a0096c9477386a33",
            "ed7798086ead417690ff8fc15b38549a"
          ]
        },
        "id": "1cuLVcWlXJmW",
        "outputId": "d9ab0342-695f-49b2-cf19-0bcd2d2376e3"
      },
      "execution_count": null,
      "outputs": [
        {
          "output_type": "display_data",
          "data": {
            "text/plain": [
              "  0%|          | 0/2079 [00:00<?, ?it/s]"
            ],
            "application/vnd.jupyter.widget-view+json": {
              "version_major": 2,
              "version_minor": 0,
              "model_id": "a396188cd73a4dba88f1c96226ecc7e9"
            }
          },
          "metadata": {}
        }
      ]
    },
    {
      "cell_type": "code",
      "source": [],
      "metadata": {
        "id": "vD0L1HKPyY7n"
      },
      "execution_count": null,
      "outputs": []
    },
    {
      "cell_type": "code",
      "source": [
        "dev_data[0]"
      ],
      "metadata": {
        "colab": {
          "base_uri": "https://localhost:8080/"
        },
        "id": "FcqEoKQaXRJe",
        "outputId": "7bcd1319-f7cf-4a1e-def7-9daa7eed6846"
      },
      "execution_count": null,
      "outputs": [
        {
          "output_type": "execute_result",
          "data": {
            "text/plain": [
              "('Die Konfirmandenzeit wird für Jugendliche besonders dann zu einer nachhaltigen Erfah\\xadrung, wenn ihre Eltern Anteil nehmen und sie hilfreich begleiten. Um sie dabei zu unterstützen, bietet diese Broschüre praktische Hinweise zu Formen und Organisation der Konfirmandenzeit in den Gemeinden, Bilder und Berichte zur religiösen und pädagogischen Gestaltung der Konfirmandenarbeit heute sowie Hinweise zur Vorbereitung und Feier der Konfirmation in der Familie. Besonders für die Eltern, für die die Konfirmation ihrer Kinder eine Wiederbegegnung mit Kirche ist, hält dieses Heft zudem Erklärungen zu den Festen und Feiertagen der Kirche, Antworten auf häufig gestellte Fragen und ein kleines Glossar kirchlicher Begriffe bereit. Mit diesem Heft wird die Konfirmandenzeit zu einer Bereicherung auch für die Eltern.',\n",
              " {'Gemeindearbeit',\n",
              "  'Gemeindearbeit mit Kindern & Jugendlichen',\n",
              "  'Glaube & Ethik',\n",
              "  'Konfirmation'})"
            ]
          },
          "metadata": {},
          "execution_count": 10
        }
      ]
    },
    {
      "cell_type": "code",
      "source": [
        "test_data = load_data(\"blurbs_test.txt\")"
      ],
      "metadata": {
        "colab": {
          "base_uri": "https://localhost:8080/",
          "height": 49,
          "referenced_widgets": [
            "a29c60039c1b486d9ae3322d881e7377",
            "aa1be106a31f475596ea620620f0dc02",
            "1f822f095ad84d3fae20739273b89f70",
            "527315c5bbc74c2fb82b39f9bbbbdbb9",
            "1e49602947be4352ba6cb12741d70f4e",
            "0792c490de1946c0bcde40dc7bd16877",
            "68c1983391c24ceca694a512123f8b4e",
            "8d14783e931b424cb0dc8f310de97a2b",
            "a8033a9759e341bd9011497fd73efb64",
            "98dbecb62253466f89668be96cb90d10",
            "f7353db0409f4c4aa046b545de0b8279"
          ]
        },
        "id": "coNc78jaXZD-",
        "outputId": "74f435bf-fbbc-4f28-9933-f3a9ca56739e"
      },
      "execution_count": null,
      "outputs": [
        {
          "output_type": "display_data",
          "data": {
            "text/plain": [
              "  0%|          | 0/4157 [00:00<?, ?it/s]"
            ],
            "application/vnd.jupyter.widget-view+json": {
              "version_major": 2,
              "version_minor": 0,
              "model_id": "a29c60039c1b486d9ae3322d881e7377"
            }
          },
          "metadata": {}
        }
      ]
    },
    {
      "cell_type": "code",
      "source": [
        "!pip install transformers"
      ],
      "metadata": {
        "colab": {
          "base_uri": "https://localhost:8080/"
        },
        "id": "SwcnKu9RWBev",
        "outputId": "8667ae88-5f86-4082-9c70-3787dc6c3b9b"
      },
      "execution_count": null,
      "outputs": [
        {
          "output_type": "stream",
          "name": "stdout",
          "text": [
            "Looking in indexes: https://pypi.org/simple, https://us-python.pkg.dev/colab-wheels/public/simple/\n",
            "Requirement already satisfied: transformers in /usr/local/lib/python3.10/dist-packages (4.29.2)\n",
            "Requirement already satisfied: filelock in /usr/local/lib/python3.10/dist-packages (from transformers) (3.12.0)\n",
            "Requirement already satisfied: huggingface-hub<1.0,>=0.14.1 in /usr/local/lib/python3.10/dist-packages (from transformers) (0.14.1)\n",
            "Requirement already satisfied: numpy>=1.17 in /usr/local/lib/python3.10/dist-packages (from transformers) (1.22.4)\n",
            "Requirement already satisfied: packaging>=20.0 in /usr/local/lib/python3.10/dist-packages (from transformers) (23.1)\n",
            "Requirement already satisfied: pyyaml>=5.1 in /usr/local/lib/python3.10/dist-packages (from transformers) (6.0)\n",
            "Requirement already satisfied: regex!=2019.12.17 in /usr/local/lib/python3.10/dist-packages (from transformers) (2022.10.31)\n",
            "Requirement already satisfied: requests in /usr/local/lib/python3.10/dist-packages (from transformers) (2.27.1)\n",
            "Requirement already satisfied: tokenizers!=0.11.3,<0.14,>=0.11.1 in /usr/local/lib/python3.10/dist-packages (from transformers) (0.13.3)\n",
            "Requirement already satisfied: tqdm>=4.27 in /usr/local/lib/python3.10/dist-packages (from transformers) (4.65.0)\n",
            "Requirement already satisfied: fsspec in /usr/local/lib/python3.10/dist-packages (from huggingface-hub<1.0,>=0.14.1->transformers) (2023.4.0)\n",
            "Requirement already satisfied: typing-extensions>=3.7.4.3 in /usr/local/lib/python3.10/dist-packages (from huggingface-hub<1.0,>=0.14.1->transformers) (4.5.0)\n",
            "Requirement already satisfied: urllib3<1.27,>=1.21.1 in /usr/local/lib/python3.10/dist-packages (from requests->transformers) (1.26.15)\n",
            "Requirement already satisfied: certifi>=2017.4.17 in /usr/local/lib/python3.10/dist-packages (from requests->transformers) (2022.12.7)\n",
            "Requirement already satisfied: charset-normalizer~=2.0.0 in /usr/local/lib/python3.10/dist-packages (from requests->transformers) (2.0.12)\n",
            "Requirement already satisfied: idna<4,>=2.5 in /usr/local/lib/python3.10/dist-packages (from requests->transformers) (3.4)\n"
          ]
        }
      ]
    },
    {
      "cell_type": "code",
      "source": [
        "from transformers import AutoTokenizer\n",
        "\n",
        "tokenizer = AutoTokenizer.from_pretrained(\"bert-base-german-cased\")\n",
        "print(max(len(tokenizer.encode(x[0])) for x in test_data))"
      ],
      "metadata": {
        "colab": {
          "base_uri": "https://localhost:8080/"
        },
        "id": "-dElNrl4XfBm",
        "outputId": "2ce2a14b-7950-42aa-e019-64c10bdc5e20"
      },
      "execution_count": null,
      "outputs": [
        {
          "output_type": "stream",
          "name": "stderr",
          "text": [
            "Token indices sequence length is longer than the specified maximum sequence length for this model (771 > 512). Running this sequence through the model will result in indexing errors\n"
          ]
        },
        {
          "output_type": "stream",
          "name": "stdout",
          "text": [
            "771\n"
          ]
        }
      ]
    },
    {
      "cell_type": "code",
      "source": [
        "from collections import Counter\n",
        "from torchtext.vocab import vocab\n",
        "\n",
        "#counter = Counter()\n",
        "#for sample in train_data:\n",
        "#    counter.update(tokenizer(sample[0]))\n",
        "# we'll map all words occurring less than 5 times to <unk>\n",
        "#text_vocab = vocab(counter, min_freq=5, specials=('<unk>', '<BOS>', '<EOS>', '<PAD>'))\n",
        "#text_vocab.set_default_index(text_vocab[\"<unk>\"])\n",
        "\n",
        "train_labels = []\n",
        "for sample in train_data:\n",
        "  for label in sample[1]:\n",
        "    if label not in train_labels:\n",
        "      train_labels.append(label)"
      ],
      "metadata": {
        "id": "qpG98TuFPJ95"
      },
      "execution_count": null,
      "outputs": []
    },
    {
      "cell_type": "code",
      "source": [
        "type(test_data[0][0])"
      ],
      "metadata": {
        "colab": {
          "base_uri": "https://localhost:8080/"
        },
        "id": "Fh1xVTSWc-S8",
        "outputId": "569d66fc-88ee-41d0-c3c9-df0980dc1243"
      },
      "execution_count": null,
      "outputs": [
        {
          "output_type": "execute_result",
          "data": {
            "text/plain": [
              "str"
            ]
          },
          "metadata": {},
          "execution_count": 15
        }
      ]
    },
    {
      "cell_type": "code",
      "source": [
        "from torch.utils.data import DataLoader\n",
        "from torch.nn.utils.rnn import pad_sequence\n",
        "import numpy as np\n",
        "from sklearn.preprocessing import MultiLabelBinarizer\n",
        "\n",
        "def collate_batch(batch):\n",
        "   label_list, ids_list, masks_list, token_type_ids_list = [], [], [], []\n",
        "   mlb = MultiLabelBinarizer(classes = train_labels)\n",
        "   maxl = max(len(tokenizer.encode(sample[0])) for sample in batch)\n",
        "   #print(maxl)\n",
        "   if(maxl) > 512: maxl = 512\n",
        "\n",
        "   for sample in batch:\n",
        "        _labels = sample[1] # we can have any number of labels here\n",
        "        _text = sample[0]\n",
        "        label_list.append(list(_labels))\n",
        "        processed_text = tokenizer.encode_plus(\n",
        "            _text,\n",
        "            None,\n",
        "            add_special_tokens=True,\n",
        "            max_length=maxl,\n",
        "            padding='max_length',\n",
        "            return_token_type_ids=True,\n",
        "            truncation=True\n",
        "          )\n",
        "        ids = torch.tensor(processed_text['input_ids'], dtype=torch.long)\n",
        "        #print(ids.shape)\n",
        "        ids_list.append(ids)\n",
        "        masks = torch.tensor(processed_text['attention_mask'], dtype=torch.long)\n",
        "        #print(masks.shape)\n",
        "        masks_list.append(masks)\n",
        "        tocken_types = torch.tensor(processed_text['token_type_ids'], dtype=torch.long)\n",
        "        #print(tocken_types.shape)\n",
        "        token_type_ids_list.append(tocken_types)\n",
        "   res_labels = torch.tensor(mlb.fit_transform(label_list), dtype=torch.float)\n",
        "   return {\n",
        "            \"labels\": res_labels, \n",
        "            \"ids\": torch.stack(ids_list),\n",
        "            \"masks\": torch.stack(masks_list), \n",
        "            \"token_type_ids\": torch.stack(token_type_ids_list)\n",
        "          }\n",
        "\n",
        "train_dataloader = DataLoader(train_data, batch_size=8, shuffle=True, \n",
        "                              collate_fn=collate_batch)\n",
        "\n",
        "test_dataloader = DataLoader(test_data, batch_size=8, shuffle=False, \n",
        "                              collate_fn=collate_batch)"
      ],
      "metadata": {
        "id": "hf5YU1UKbGKa"
      },
      "execution_count": null,
      "outputs": []
    },
    {
      "cell_type": "code",
      "source": [
        "#batch = next(iter(train_dataloader))\n",
        "#print(batch)"
      ],
      "metadata": {
        "id": "orTr2S5jdvLM"
      },
      "execution_count": null,
      "outputs": []
    },
    {
      "cell_type": "code",
      "source": [
        "#print(batch[\"ids\"].shape)\n",
        "#print(batch[\"masks\"].shape)\n",
        "#print(batch[\"token_type_ids\"].shape)"
      ],
      "metadata": {
        "id": "0Mf5OowP1dJ7"
      },
      "execution_count": null,
      "outputs": []
    },
    {
      "cell_type": "code",
      "source": [
        "train_dataloader = DataLoader(train_data, batch_size=16, shuffle=True, \n",
        "                              collate_fn=collate_batch)\n",
        "\n",
        "test_dataloader = DataLoader(test_data, batch_size=16, shuffle=False, \n",
        "                              collate_fn=collate_batch)"
      ],
      "metadata": {
        "id": "vDS5DJ6QZKxu"
      },
      "execution_count": null,
      "outputs": []
    },
    {
      "cell_type": "code",
      "source": [
        "import torch.nn as nn\n",
        "import torch.nn.functional as F"
      ],
      "metadata": {
        "id": "1eBaNRkSZN5V"
      },
      "execution_count": null,
      "outputs": []
    },
    {
      "cell_type": "code",
      "source": [
        "device = 'cpu'\n",
        "if torch.cuda.is_available():\n",
        "  device = torch.device('cuda')\n",
        "\n",
        "print(device)"
      ],
      "metadata": {
        "colab": {
          "base_uri": "https://localhost:8080/"
        },
        "id": "o5uStQ2vZmAF",
        "outputId": "a7ba0c24-bdaa-4bb0-a500-88854fc404e5"
      },
      "execution_count": null,
      "outputs": [
        {
          "output_type": "stream",
          "name": "stdout",
          "text": [
            "cuda\n"
          ]
        }
      ]
    },
    {
      "cell_type": "code",
      "source": [
        "import torch.nn as nn\n",
        "import torch.nn.functional as F\n",
        "from transformers import BertModel\n",
        "class BertNERModel(torch.nn.Module):\n",
        "  def __init__(self, num_classes, dropout_prob, device):\n",
        "    super(BertNERModel, self).__init__()\n",
        "    #self.sigm = nn.Sigmoid()\n",
        "    self.l1 = BertModel.from_pretrained('bert-base-german-cased')\n",
        "    self.l2 = torch.nn.Dropout(dropout_prob)\n",
        "    self.l3 = torch.nn.Linear(768, num_classes)\n",
        "    self.device = device\n",
        "    \n",
        "  def forward(self, ids, mask, token_type_ids):\n",
        "      #print(\"I got here\")\n",
        "      #print(ids.shape)\n",
        "      #print(mask.shape)\n",
        "      #print(token_type_ids.shape)\n",
        "      #print(\"I got to before 1 layer\")\n",
        "      output_1 = self.l1(ids, attention_mask = mask, token_type_ids = token_type_ids)\n",
        "      #print(\"I got to before 2 layer\")\n",
        "      #print(output_1[0])\n",
        "      #print(output_1[0].shape)\n",
        "      #print(\"------------- second\")\n",
        "      #print(output_1[1])\n",
        "      #print(output_1[1].shape)\n",
        "      output_2 = self.l2(output_1[1])\n",
        "      #print(\"I got to before 3 layer\")\n",
        "      #print(output_2.shape())\n",
        "      output = self.l3(output_2)\n",
        "      #print(output.shape())\n",
        "      return output"
      ],
      "metadata": {
        "id": "eTRqJc7nZbBP"
      },
      "execution_count": null,
      "outputs": []
    },
    {
      "cell_type": "code",
      "source": [
        "#model = BertNERModel(343, 0.3, device).to(device)"
      ],
      "metadata": {
        "id": "rvaDNS8AZgHN"
      },
      "execution_count": null,
      "outputs": []
    },
    {
      "cell_type": "code",
      "source": [
        "#print(model.forward(batch[\"ids\"].to(device), batch[\"masks\"].to(device), batch[\"token_type_ids\"].to(device)))"
      ],
      "metadata": {
        "id": "DkTV4ctZaU_n"
      },
      "execution_count": null,
      "outputs": []
    },
    {
      "cell_type": "code",
      "source": [
        "from sklearn.metrics import f1_score, recall_score, precision_score \n",
        "\n",
        "def calculate_metrics(pred, target, threshold=0.2):\n",
        "    #print(\"before\")\n",
        "    #print(pred)\n",
        "    pred = np.array(pred > threshold, dtype=float)\n",
        "    #print(\"after\")\n",
        "    #print(pred)\n",
        "    #print(\"predicted after threshold\")\n",
        "    #print(pred)\n",
        "    return {\n",
        "            'micro/f1': f1_score(y_true=target, y_pred=pred, average='micro'),\n",
        "            }"
      ],
      "metadata": {
        "id": "MDjx6WWFUcQk"
      },
      "execution_count": null,
      "outputs": []
    },
    {
      "cell_type": "code",
      "source": [
        "from tqdm.notebook import tqdm\n",
        "def train(model, num_epochs, train_iter, test_iter):\n",
        "  train_loss = 0\n",
        "  valid_loss = 0\n",
        "\n",
        "  optimizer = torch.optim.Adam(model.parameters(), lr=1e-2)\n",
        "\n",
        "  steps = 0\n",
        "  best_acc = 0\n",
        "  last_step = 0\n",
        "  for epoch in range(1, num_epochs+1):\n",
        "    print(\"Epoch %d\" % epoch)\n",
        "    model.train()\n",
        "    # We wrap the dataloader iterator to tqdm, so that we'll get a nice progress bar\n",
        "    for batch in tqdm(train_iter, total=len(train_iter)):\n",
        "      ids = batch[\"ids\"].to(device)\n",
        "      target = batch[\"labels\"].to(device)\n",
        "      token_type_ids = batch[\"token_type_ids\"].to(device)\n",
        "      masks = batch[\"masks\"].to(device)\n",
        "\n",
        "      #print(\"target\")\n",
        "      #print(target.shape)\n",
        "      #print(target)\n",
        "\n",
        "      optimizer.zero_grad()\n",
        "      output = model(ids, masks, token_type_ids)\n",
        "      #print(output.shape)\n",
        "      #print(output)\n",
        "\n",
        "      criterion = nn.BCEWithLogitsLoss()\n",
        "\n",
        "      loss = criterion(output, target)\n",
        "\n",
        "      loss.backward()\n",
        "      optimizer.step()\n",
        "\n",
        "      #train_loss = train_loss + ((1 / (batch_idx + 1)) * (loss.item() - train_loss))\n",
        "\n",
        "      steps += 1\n",
        "\n",
        "    train_acc = evaluate(\"train\", train_iter, model)                \n",
        "    dev_acc = evaluate(\"test\", test_iter, model)\n",
        "\n",
        "def evaluate(dataset_name, data_iter, model):\n",
        "  \n",
        "  model.eval()\n",
        "  batch_losses = []\n",
        "  #total_corrects, avg_loss = 0, 0\n",
        "  model_result = []\n",
        "  targets = []\n",
        "  with torch.inference_mode():\n",
        "    for batch in data_iter:\n",
        "      ids = batch[\"ids\"].to(device)\n",
        "      target = batch[\"labels\"].to(device)\n",
        "      token_type_ids = batch[\"token_type_ids\"].to(device)\n",
        "      masks = batch[\"masks\"].to(device)\n",
        "\n",
        "      output = model(ids, masks, token_type_ids)\n",
        "\n",
        "      criterion = nn.BCEWithLogitsLoss()\n",
        "\n",
        "      #print(\"Before loss 1\")\n",
        "\n",
        "      loss = criterion(output, target).item()\n",
        "      batch_losses.append(loss)\n",
        "\n",
        "      #print(\"After loss 1\")\n",
        "      #print(loss)\n",
        "      model_result.extend(torch.sigmoid(output).cpu().numpy())\n",
        "      targets.extend(target.cpu().numpy())\n",
        "      fin_output = np.array(model_result)\n",
        "      fin_targets = np.array(targets)\n",
        "\n",
        "    result = calculate_metrics(fin_output, fin_targets)\n",
        "    print(\"Evaluation on {} - micro f1: {:.3f} \".format(dataset_name, \n",
        "                                      result['micro/f1']))\n",
        "                                      #result['macro/f1'],\n",
        "                                      #result['samples/f1']))\n",
        "    loss_value = np.mean(batch_losses)\n",
        "    print(\"Evaluation on {} - loss:{:.3f}\".format(dataset_name, loss_value))\n",
        "    #size = len(data_iter.dataset)\n",
        "    #avg_loss /= size\n",
        "    #accuracy = 100.0 * total_corrects/size\n",
        "    #print('  Evaluation on {} - loss: {:.3f}  acc: {:.2f}%({}/{})'.format(dataset_name,\n",
        "    #                                                                  avg_loss, \n",
        "    #                                                                  accuracy, \n",
        "    #                                                                  total_corrects, \n",
        "    #                                                                  size))\n",
        "    return result['micro/f1']                "
      ],
      "metadata": {
        "id": "bir-81fQaju0"
      },
      "execution_count": null,
      "outputs": []
    },
    {
      "cell_type": "code",
      "source": [
        "model = BertNERModel(343, 0.3, device).to(device)\n",
        "train(model, 5, train_dataloader, test_dataloader)"
      ],
      "metadata": {
        "colab": {
          "base_uri": "https://localhost:8080/",
          "height": 1000,
          "referenced_widgets": [
            "0efe9c6cd46c4d8a9be752b9a0305c2f",
            "9aaa58c3b1a3430992d837d3a2b11000",
            "6901ce61c55a4d07b441c4de0edf773e",
            "1b17d72a86334cc7869f9dac7830b67b",
            "97dc8fc725544208bccaa17840602d4b",
            "498375390a5643ab9b75983f3cea8eb8",
            "9147e0ff3c4a41ce8cad28e87ab5f4f6",
            "0107d08ba1b2466082dd073c8934ae3e",
            "17e3ec45d87f41909fee80b17d97ed58",
            "902e440d57f94123aa4fa9903e7b037c",
            "6294215f21ca49b29106e7bb1448b566",
            "daa8801a4af94e6688117fe6e958e5a3",
            "b5d9e39e884c4889a5e1d155a9b1cd5a",
            "763fd2b187bf424e87e041fec614496e",
            "7b9ae91d4c234c659533e258f7d77d05",
            "de7cff02f44c4967aadb80fd7e873f24",
            "57e9c332604249eab3383cf692018d0c",
            "889a2204c6df40018df56a5a71f7d01d",
            "ff8b905641a04e3795ceb9c381f7906c",
            "27c007dfeffd4739b4aa00500b440c86",
            "f01e3f21dfd54850bf74b2ecc9d0c6c6",
            "ad27e6868df44e72a795b4c8a9125c82",
            "a7f0e28e8cd74bc3bf43382f338f04b1",
            "b8f86568ba414b3eb45aea9651fb5253",
            "4b816b402e48451c90662a8b2be8b31e",
            "2c3cea9b0a364b8ababf7ddb9795d163",
            "c8b7b78edadb42ff8b0cde0cb0e7167a",
            "f18698197ff24b3793f22ee9b5df66c1",
            "867e79d9512340b9953e3f09c5342272",
            "33591a7d958d4650a78e0ddfbd8eda97",
            "16db5fa4dbfd4ae983b82a31713b4a40",
            "a70741c7a06d4a858edd5f1ce09307c4",
            "18924e8af28e405eab3a3a340b4d3f6c"
          ]
        },
        "id": "xx588v5jc_-_",
        "outputId": "ee1ddd58-544b-4d01-99a6-52c015f7879e"
      },
      "execution_count": null,
      "outputs": [
        {
          "output_type": "stream",
          "name": "stderr",
          "text": [
            "Some weights of the model checkpoint at bert-base-german-cased were not used when initializing BertModel: ['cls.predictions.bias', 'cls.predictions.transform.dense.bias', 'cls.predictions.transform.LayerNorm.bias', 'cls.seq_relationship.weight', 'cls.seq_relationship.bias', 'cls.predictions.transform.dense.weight', 'cls.predictions.transform.LayerNorm.weight', 'cls.predictions.decoder.weight']\n",
            "- This IS expected if you are initializing BertModel from the checkpoint of a model trained on another task or with another architecture (e.g. initializing a BertForSequenceClassification model from a BertForPreTraining model).\n",
            "- This IS NOT expected if you are initializing BertModel from the checkpoint of a model that you expect to be exactly identical (initializing a BertForSequenceClassification model from a BertForSequenceClassification model).\n"
          ]
        },
        {
          "output_type": "stream",
          "name": "stdout",
          "text": [
            "Epoch 1\n"
          ]
        },
        {
          "output_type": "display_data",
          "data": {
            "text/plain": [
              "  0%|          | 0/910 [00:00<?, ?it/s]"
            ],
            "application/vnd.jupyter.widget-view+json": {
              "version_major": 2,
              "version_minor": 0,
              "model_id": "0efe9c6cd46c4d8a9be752b9a0305c2f"
            }
          },
          "metadata": {}
        },
        {
          "output_type": "stream",
          "name": "stdout",
          "text": [
            "before\n",
            "[[4.4240275e-01 5.6041002e-01 9.8616574e-03 ... 2.9586404e-06\n",
            "  2.8800699e-07 2.2511686e-06]\n",
            " [4.4240275e-01 5.6041002e-01 9.8616574e-03 ... 2.9586404e-06\n",
            "  2.8800699e-07 2.2511686e-06]\n",
            " [4.4240275e-01 5.6041002e-01 9.8616574e-03 ... 2.9586404e-06\n",
            "  2.8800699e-07 2.2511686e-06]\n",
            " ...\n",
            " [4.4240275e-01 5.6041002e-01 9.8616574e-03 ... 2.9586404e-06\n",
            "  2.8800699e-07 2.2511686e-06]\n",
            " [4.4240275e-01 5.6041002e-01 9.8616574e-03 ... 2.9586404e-06\n",
            "  2.8800699e-07 2.2511686e-06]\n",
            " [4.4240275e-01 5.6041002e-01 9.8616574e-03 ... 2.9586404e-06\n",
            "  2.8800699e-07 2.2511686e-06]]\n",
            "after\n",
            "[[1. 1. 0. ... 0. 0. 0.]\n",
            " [1. 1. 0. ... 0. 0. 0.]\n",
            " [1. 1. 0. ... 0. 0. 0.]\n",
            " ...\n",
            " [1. 1. 0. ... 0. 0. 0.]\n",
            " [1. 1. 0. ... 0. 0. 0.]\n",
            " [1. 1. 0. ... 0. 0. 0.]]\n",
            "Evaluation on train - micro f1: 0.274 \n",
            "Evaluation on train - loss:0.061\n",
            "before\n",
            "[[4.4240275e-01 5.6041002e-01 9.8616574e-03 ... 2.9586404e-06\n",
            "  2.8800699e-07 2.2511686e-06]\n",
            " [4.4240275e-01 5.6041002e-01 9.8616574e-03 ... 2.9586404e-06\n",
            "  2.8800699e-07 2.2511686e-06]\n",
            " [4.4240275e-01 5.6041002e-01 9.8616574e-03 ... 2.9586404e-06\n",
            "  2.8800699e-07 2.2511686e-06]\n",
            " ...\n",
            " [4.4240275e-01 5.6041002e-01 9.8616574e-03 ... 2.9586404e-06\n",
            "  2.8800699e-07 2.2511686e-06]\n",
            " [4.4240275e-01 5.6041002e-01 9.8616574e-03 ... 2.9586404e-06\n",
            "  2.8800699e-07 2.2511686e-06]\n",
            " [4.4240275e-01 5.6041002e-01 9.8616574e-03 ... 2.9586404e-06\n",
            "  2.8800699e-07 2.2511686e-06]]\n",
            "after\n",
            "[[1. 1. 0. ... 0. 0. 0.]\n",
            " [1. 1. 0. ... 0. 0. 0.]\n",
            " [1. 1. 0. ... 0. 0. 0.]\n",
            " ...\n",
            " [1. 1. 0. ... 0. 0. 0.]\n",
            " [1. 1. 0. ... 0. 0. 0.]\n",
            " [1. 1. 0. ... 0. 0. 0.]]\n",
            "Evaluation on test - micro f1: 0.264 \n",
            "Evaluation on test - loss:0.063\n",
            "Epoch 2\n"
          ]
        },
        {
          "output_type": "display_data",
          "data": {
            "text/plain": [
              "  0%|          | 0/910 [00:00<?, ?it/s]"
            ],
            "application/vnd.jupyter.widget-view+json": {
              "version_major": 2,
              "version_minor": 0,
              "model_id": "daa8801a4af94e6688117fe6e958e5a3"
            }
          },
          "metadata": {}
        },
        {
          "output_type": "stream",
          "name": "stdout",
          "text": [
            "before\n",
            "[[1.0332047e-02 5.8821690e-01 8.8676461e-04 ... 1.2302041e-15\n",
            "  3.0831842e-08 1.3295425e-13]\n",
            " [1.0332047e-02 5.8821690e-01 8.8676461e-04 ... 1.2302041e-15\n",
            "  3.0831842e-08 1.3295425e-13]\n",
            " [1.0332047e-02 5.8821690e-01 8.8676461e-04 ... 1.2302041e-15\n",
            "  3.0831842e-08 1.3295425e-13]\n",
            " ...\n",
            " [1.0332047e-02 5.8821690e-01 8.8676461e-04 ... 1.2302041e-15\n",
            "  3.0831842e-08 1.3295425e-13]\n",
            " [1.0332047e-02 5.8821690e-01 8.8676461e-04 ... 1.2302041e-15\n",
            "  3.0831842e-08 1.3295425e-13]\n",
            " [1.0332047e-02 5.8821690e-01 8.8676461e-04 ... 1.2302041e-15\n",
            "  3.0831842e-08 1.3295425e-13]]\n",
            "after\n",
            "[[0. 1. 0. ... 0. 0. 0.]\n",
            " [0. 1. 0. ... 0. 0. 0.]\n",
            " [0. 1. 0. ... 0. 0. 0.]\n",
            " ...\n",
            " [0. 1. 0. ... 0. 0. 0.]\n",
            " [0. 1. 0. ... 0. 0. 0.]\n",
            " [0. 1. 0. ... 0. 0. 0.]]\n",
            "Evaluation on train - micro f1: 0.206 \n",
            "Evaluation on train - loss:0.071\n",
            "before\n",
            "[[1.0332047e-02 5.8821690e-01 8.8676461e-04 ... 1.2302041e-15\n",
            "  3.0831842e-08 1.3295425e-13]\n",
            " [1.0332047e-02 5.8821690e-01 8.8676461e-04 ... 1.2302041e-15\n",
            "  3.0831842e-08 1.3295425e-13]\n",
            " [1.0332047e-02 5.8821690e-01 8.8676461e-04 ... 1.2302041e-15\n",
            "  3.0831842e-08 1.3295425e-13]\n",
            " ...\n",
            " [1.0332047e-02 5.8821690e-01 8.8676461e-04 ... 1.2302041e-15\n",
            "  3.0831842e-08 1.3295425e-13]\n",
            " [1.0332047e-02 5.8821690e-01 8.8676461e-04 ... 1.2302041e-15\n",
            "  3.0831842e-08 1.3295425e-13]\n",
            " [1.0332047e-02 5.8821690e-01 8.8676461e-04 ... 1.2302041e-15\n",
            "  3.0831842e-08 1.3295425e-13]]\n",
            "after\n",
            "[[0. 1. 0. ... 0. 0. 0.]\n",
            " [0. 1. 0. ... 0. 0. 0.]\n",
            " [0. 1. 0. ... 0. 0. 0.]\n",
            " ...\n",
            " [0. 1. 0. ... 0. 0. 0.]\n",
            " [0. 1. 0. ... 0. 0. 0.]\n",
            " [0. 1. 0. ... 0. 0. 0.]]\n",
            "Evaluation on test - micro f1: 0.204 \n",
            "Evaluation on test - loss:0.073\n",
            "Epoch 3\n"
          ]
        },
        {
          "output_type": "display_data",
          "data": {
            "text/plain": [
              "  0%|          | 0/910 [00:00<?, ?it/s]"
            ],
            "application/vnd.jupyter.widget-view+json": {
              "version_major": 2,
              "version_minor": 0,
              "model_id": "a7f0e28e8cd74bc3bf43382f338f04b1"
            }
          },
          "metadata": {}
        },
        {
          "output_type": "error",
          "ename": "KeyboardInterrupt",
          "evalue": "ignored",
          "traceback": [
            "\u001b[0;31m---------------------------------------------------------------------------\u001b[0m",
            "\u001b[0;31mKeyboardInterrupt\u001b[0m                         Traceback (most recent call last)",
            "\u001b[0;32m<ipython-input-30-8612eef717d9>\u001b[0m in \u001b[0;36m<cell line: 2>\u001b[0;34m()\u001b[0m\n\u001b[1;32m      1\u001b[0m \u001b[0mmodel\u001b[0m \u001b[0;34m=\u001b[0m \u001b[0mBertNERModel\u001b[0m\u001b[0;34m(\u001b[0m\u001b[0;36m343\u001b[0m\u001b[0;34m,\u001b[0m \u001b[0;36m0.3\u001b[0m\u001b[0;34m,\u001b[0m \u001b[0mdevice\u001b[0m\u001b[0;34m)\u001b[0m\u001b[0;34m.\u001b[0m\u001b[0mto\u001b[0m\u001b[0;34m(\u001b[0m\u001b[0mdevice\u001b[0m\u001b[0;34m)\u001b[0m\u001b[0;34m\u001b[0m\u001b[0;34m\u001b[0m\u001b[0m\n\u001b[0;32m----> 2\u001b[0;31m \u001b[0mtrain\u001b[0m\u001b[0;34m(\u001b[0m\u001b[0mmodel\u001b[0m\u001b[0;34m,\u001b[0m \u001b[0;36m5\u001b[0m\u001b[0;34m,\u001b[0m \u001b[0mtrain_dataloader\u001b[0m\u001b[0;34m,\u001b[0m \u001b[0mtest_dataloader\u001b[0m\u001b[0;34m)\u001b[0m\u001b[0;34m\u001b[0m\u001b[0;34m\u001b[0m\u001b[0m\n\u001b[0m",
            "\u001b[0;32m<ipython-input-29-5ab9e386b9f6>\u001b[0m in \u001b[0;36mtrain\u001b[0;34m(model, num_epochs, train_iter, test_iter)\u001b[0m\n\u001b[1;32m     14\u001b[0m     \u001b[0;31m# We wrap the dataloader iterator to tqdm, so that we'll get a nice progress bar\u001b[0m\u001b[0;34m\u001b[0m\u001b[0;34m\u001b[0m\u001b[0m\n\u001b[1;32m     15\u001b[0m     \u001b[0;32mfor\u001b[0m \u001b[0mbatch\u001b[0m \u001b[0;32min\u001b[0m \u001b[0mtqdm\u001b[0m\u001b[0;34m(\u001b[0m\u001b[0mtrain_iter\u001b[0m\u001b[0;34m,\u001b[0m \u001b[0mtotal\u001b[0m\u001b[0;34m=\u001b[0m\u001b[0mlen\u001b[0m\u001b[0;34m(\u001b[0m\u001b[0mtrain_iter\u001b[0m\u001b[0;34m)\u001b[0m\u001b[0;34m)\u001b[0m\u001b[0;34m:\u001b[0m\u001b[0;34m\u001b[0m\u001b[0;34m\u001b[0m\u001b[0m\n\u001b[0;32m---> 16\u001b[0;31m       \u001b[0mids\u001b[0m \u001b[0;34m=\u001b[0m \u001b[0mbatch\u001b[0m\u001b[0;34m[\u001b[0m\u001b[0;34m\"ids\"\u001b[0m\u001b[0;34m]\u001b[0m\u001b[0;34m.\u001b[0m\u001b[0mto\u001b[0m\u001b[0;34m(\u001b[0m\u001b[0mdevice\u001b[0m\u001b[0;34m)\u001b[0m\u001b[0;34m\u001b[0m\u001b[0;34m\u001b[0m\u001b[0m\n\u001b[0m\u001b[1;32m     17\u001b[0m       \u001b[0mtarget\u001b[0m \u001b[0;34m=\u001b[0m \u001b[0mbatch\u001b[0m\u001b[0;34m[\u001b[0m\u001b[0;34m\"labels\"\u001b[0m\u001b[0;34m]\u001b[0m\u001b[0;34m.\u001b[0m\u001b[0mto\u001b[0m\u001b[0;34m(\u001b[0m\u001b[0mdevice\u001b[0m\u001b[0;34m)\u001b[0m\u001b[0;34m\u001b[0m\u001b[0;34m\u001b[0m\u001b[0m\n\u001b[1;32m     18\u001b[0m       \u001b[0mtoken_type_ids\u001b[0m \u001b[0;34m=\u001b[0m \u001b[0mbatch\u001b[0m\u001b[0;34m[\u001b[0m\u001b[0;34m\"token_type_ids\"\u001b[0m\u001b[0;34m]\u001b[0m\u001b[0;34m.\u001b[0m\u001b[0mto\u001b[0m\u001b[0;34m(\u001b[0m\u001b[0mdevice\u001b[0m\u001b[0;34m)\u001b[0m\u001b[0;34m\u001b[0m\u001b[0;34m\u001b[0m\u001b[0m\n",
            "\u001b[0;31mKeyboardInterrupt\u001b[0m: "
          ]
        }
      ]
    }
  ]
}